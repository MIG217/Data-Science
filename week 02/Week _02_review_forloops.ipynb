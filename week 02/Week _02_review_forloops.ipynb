{
 "cells": [
  {
   "cell_type": "markdown",
   "id": "15493fd6-2944-48e0-a613-f70a4ae7b8a8",
   "metadata": {},
   "source": [
    "## CMPINF 2100 Week 02\n",
    "### Review iteration with for-loops\n",
    "## Overviw\n",
    "\n",
    "Review the basic structure of a for-loop, focusing on:\n",
    "\n",
    "* Indents and spacing\n",
    "* Iterating variable\n",
    "* Sequence\n",
    "* How the iterating variable changes in the for-loop\n",
    "\n",
    "## For-loop"
   ]
  },
  {
   "cell_type": "code",
   "execution_count": 1,
   "id": "1b1a0da2-1cb6-4799-a23a-4092c422ed17",
   "metadata": {},
   "outputs": [
    {
     "name": "stdout",
     "output_type": "stream",
     "text": [
      "0\n",
      "1\n",
      "2\n",
      "3\n",
      "4\n",
      "5\n",
      "6\n"
     ]
    }
   ],
   "source": [
    "for n in range(7):\n",
    "    # inside the body of the for-loop\n",
    "    # actions occur for the CURRENT value of the the iterating variable\n",
    "    print(n)"
   ]
  },
  {
   "cell_type": "code",
   "execution_count": 2,
   "id": "e32935aa-5c13-4cc5-b480-116dca964a9b",
   "metadata": {},
   "outputs": [
    {
     "name": "stdout",
     "output_type": "stream",
     "text": [
      "Variable   Type    Data/Info\n",
      "----------------------------\n",
      "n          int     6\n"
     ]
    }
   ],
   "source": [
    "%whos"
   ]
  },
  {
   "cell_type": "code",
   "execution_count": 4,
   "id": "2576c93a-cbb9-4003-8cdc-151a646470bc",
   "metadata": {},
   "outputs": [
    {
     "name": "stdout",
     "output_type": "stream",
     "text": [
      "0\n",
      "0\n",
      "1\n",
      "1\n",
      "2\n",
      "2\n",
      "3\n",
      "3\n",
      "4\n",
      "4\n",
      "5\n",
      "5\n",
      "6\n",
      "6\n",
      "6\n",
      "6000\n"
     ]
    }
   ],
   "source": [
    "for n in range(7):\n",
    "    # inside the body of the for-loop\n",
    "    # still inside the body\n",
    "    print(n)\n",
    "    #inside the body of the for-loop\n",
    "    print(n)\n",
    "# we are OUTSIDE the body of the for-loop\n",
    "# because we are NOT indented\n",
    "# that means we are NO longer iterating\n",
    "print (n)\n",
    "print(n*1000)\n",
    "# still outside the for-loop"
   ]
  },
  {
   "cell_type": "code",
   "execution_count": 5,
   "id": "6654fdfc-72b7-4a18-b840-55ca0899e194",
   "metadata": {},
   "outputs": [
    {
     "name": "stdout",
     "output_type": "stream",
     "text": [
      "Variable   Type    Data/Info\n",
      "----------------------------\n",
      "n          int     6\n"
     ]
    }
   ],
   "source": [
    "%whos"
   ]
  },
  {
   "cell_type": "code",
   "execution_count": 6,
   "id": "35f92f37-9f12-4c3e-9a63-47be78c7ea47",
   "metadata": {},
   "outputs": [
    {
     "ename": "IndentationError",
     "evalue": "expected an indented block (3335463432.py, line 4)",
     "output_type": "error",
     "traceback": [
      "\u001b[0;36m  Cell \u001b[0;32mIn[6], line 4\u001b[0;36m\u001b[0m\n\u001b[0;31m    print(n2)\u001b[0m\n\u001b[0m    ^\u001b[0m\n\u001b[0;31mIndentationError\u001b[0m\u001b[0;31m:\u001b[0m expected an indented block\n"
     ]
    }
   ],
   "source": [
    "for n2 in range(7):\n",
    "    # inside the for loop!\n",
    "### outside the for loop!\n",
    "print(n2)"
   ]
  },
  {
   "cell_type": "code",
   "execution_count": 8,
   "id": "e5969518-452f-450e-b50c-b58ecf3aa499",
   "metadata": {},
   "outputs": [
    {
     "name": "stdout",
     "output_type": "stream",
     "text": [
      "3\n",
      "3\n",
      "3\n",
      "3\n",
      "3\n",
      "3\n",
      "3\n",
      "6\n"
     ]
    }
   ],
   "source": [
    "for n2 in range(7):\n",
    "    # inside the for loop!!\n",
    "    print(3)\n",
    "print (n2)"
   ]
  },
  {
   "cell_type": "code",
   "execution_count": 9,
   "id": "9e9850b9-7df3-4bbc-996d-3c18110b7e89",
   "metadata": {},
   "outputs": [
    {
     "name": "stdout",
     "output_type": "stream",
     "text": [
      "6\n"
     ]
    }
   ],
   "source": [
    "for n3 in range (7):\n",
    "    # the for loops expects some kind of action!!\n",
    "    n3+1\n",
    "    # we simply adding a 1 to the iterating variable but NOT saving, defining, or printing it\n",
    "# outside the for loop\n",
    "print (n3)"
   ]
  },
  {
   "cell_type": "code",
   "execution_count": 10,
   "id": "a71e69b4-ec8a-486d-ba90-85489d8507b1",
   "metadata": {},
   "outputs": [
    {
     "name": "stdout",
     "output_type": "stream",
     "text": [
      "Variable   Type    Data/Info\n",
      "----------------------------\n",
      "n          int     6\n",
      "n2         int     6\n",
      "n3         int     6\n"
     ]
    }
   ],
   "source": [
    "%whos"
   ]
  },
  {
   "cell_type": "code",
   "execution_count": 11,
   "id": "35c76caf-bd4a-4786-85bb-0313e1c46e4e",
   "metadata": {},
   "outputs": [
    {
     "name": "stdout",
     "output_type": "stream",
     "text": [
      "Iterating variable value is: 0\n",
      "Iterating variable value is: 1\n",
      "Iterating variable value is: 2\n",
      "Iterating variable value is: 3\n",
      "Iterating variable value is: 4\n",
      "Iterating variable value is: 5\n",
      "Iterating variable value is: 6\n"
     ]
    }
   ],
   "source": [
    "for nn in range(7):\n",
    "    print('Iterating variable value is: %d' % (nn) )\n",
    "    # '%d' means show a digit or a number"
   ]
  },
  {
   "cell_type": "code",
   "execution_count": 12,
   "id": "d188c1ee-b825-4b8c-8a2d-c0a09a4b7bc1",
   "metadata": {},
   "outputs": [
    {
     "name": "stdout",
     "output_type": "stream",
     "text": [
      "Variable   Type    Data/Info\n",
      "----------------------------\n",
      "n          int     6\n",
      "n2         int     6\n",
      "n3         int     6\n",
      "nn         int     6\n"
     ]
    }
   ],
   "source": [
    "%whos"
   ]
  },
  {
   "cell_type": "code",
   "execution_count": 13,
   "id": "3f7699d3-3e1e-4b0b-b6a1-2358260f3536",
   "metadata": {},
   "outputs": [
    {
     "name": "stdout",
     "output_type": "stream",
     "text": [
      "Old iterating variable, nn, is: 6 WHILE current iterating variable, mm, is: 0\n",
      "Old iterating variable, nn, is: 6 WHILE current iterating variable, mm, is: 1\n",
      "Old iterating variable, nn, is: 6 WHILE current iterating variable, mm, is: 2\n",
      "Old iterating variable, nn, is: 6 WHILE current iterating variable, mm, is: 3\n",
      "Old iterating variable, nn, is: 6 WHILE current iterating variable, mm, is: 4\n",
      "Old iterating variable, nn, is: 6 WHILE current iterating variable, mm, is: 5\n",
      "Old iterating variable, nn, is: 6 WHILE current iterating variable, mm, is: 6\n"
     ]
    }
   ],
   "source": [
    "for mm in range(7):\n",
    "    print (\"Old iterating variable, nn, is: %d WHILE current iterating variable, mm, is: %d\" %(nn,mm))"
   ]
  },
  {
   "cell_type": "code",
   "execution_count": 14,
   "id": "446f91e2-88db-41da-a3b7-d7d8e9a62f35",
   "metadata": {},
   "outputs": [
    {
     "name": "stdout",
     "output_type": "stream",
     "text": [
      "6 + 6 + 0 = 12 \n",
      "6 + 6 + 1 = 13 \n",
      "6 + 6 + 2 = 14 \n",
      "6 + 6 + 3 = 15 \n",
      "6 + 6 + 4 = 16 \n",
      "6 + 6 + 5 = 17 \n",
      "6 + 6 + 6 = 18 \n"
     ]
    }
   ],
   "source": [
    "for zz in range(7):\n",
    "    print ('%d + %d + %d = %d ' %(nn,mm,zz,nn+mm+zz))"
   ]
  },
  {
   "cell_type": "markdown",
   "id": "423cef76-874e-4664-9f13-e7f167c28690",
   "metadata": {},
   "source": [
    "## Nasted for-loops \n",
    "\n",
    "We can iterate over 2 sequences at the same time! Nasted for-loops consist of OUTER and INNER for-loops!!!"
   ]
  },
  {
   "cell_type": "code",
   "execution_count": 15,
   "id": "a6cbbdcb-3c66-431d-9396-fbb39c3f3ab8",
   "metadata": {},
   "outputs": [
    {
     "name": "stdout",
     "output_type": "stream",
     "text": [
      "Outer iteration number: 0\n",
      "-- ## --\n",
      "Inner iteration number: 0 \n",
      "Inner iteration number: 1 \n",
      "Inner iteration number: 2 \n",
      "Inner iteration number: 3 \n",
      "Inner iteration number: 4 \n",
      "-- ## --\n",
      "Outer iteration number: 1\n",
      "-- ## --\n",
      "Inner iteration number: 0 \n",
      "Inner iteration number: 1 \n",
      "Inner iteration number: 2 \n",
      "Inner iteration number: 3 \n",
      "Inner iteration number: 4 \n",
      "-- ## --\n",
      "Outer iteration number: 2\n",
      "-- ## --\n",
      "Inner iteration number: 0 \n",
      "Inner iteration number: 1 \n",
      "Inner iteration number: 2 \n",
      "Inner iteration number: 3 \n",
      "Inner iteration number: 4 \n",
      "-- ## --\n"
     ]
    }
   ],
   "source": [
    "for o1 in range(3):\n",
    "    # this is the OUTER for loop\n",
    "    print (\"Outer iteration number: %d\" %(o1))\n",
    "    print (\"-- ## --\")\n",
    "    for i1 in range(5):\n",
    "        # This is inside the INNER for loop\n",
    "        # It looks like a further SUB SECTION beacuse we are intended more!!!\n",
    "        print('Inner iteration number: %d ' %(i1))\n",
    "        # still in the INNER for loop\n",
    "    # We are BACK within the OUTER for loop!!!\n",
    "    print (\"-- ## --\")"
   ]
  },
  {
   "cell_type": "code",
   "execution_count": 16,
   "id": "256dd304-2238-425b-a37c-f6dc105de1f5",
   "metadata": {},
   "outputs": [
    {
     "name": "stdout",
     "output_type": "stream",
     "text": [
      "Outer iteration number: 0\n",
      "\n",
      "\n",
      "\n",
      "\n",
      "-- $$ --\n",
      "Outer iteration number: 1\n",
      "a\n",
      "b\n",
      "c\n",
      "d\n",
      "-- $$ --\n",
      "Outer iteration number: 2\n",
      "aa\n",
      "bb\n",
      "cc\n",
      "dd\n",
      "-- $$ --\n",
      "Outer iteration number: 3\n",
      "aaa\n",
      "bbb\n",
      "ccc\n",
      "ddd\n",
      "-- $$ --\n",
      "Outer iteration number: 4\n",
      "aaaa\n",
      "bbbb\n",
      "cccc\n",
      "dddd\n",
      "-- $$ --\n"
     ]
    }
   ],
   "source": [
    "for o2 in range(5):\n",
    "    # outer for loop iterates over on INTEGER\n",
    "    print ('Outer iteration number: %d' %(o2))\n",
    "    for i2 in ['a','b','c','d']:\n",
    "        # INNER for loop\n",
    "        print (o2 * i2)\n",
    "    # back in the OUTER for loop\n",
    "    print (\"-- $$ --\")"
   ]
  },
  {
   "cell_type": "code",
   "execution_count": 17,
   "id": "728c1f3d-d20b-4fca-ac82-4eb83ee59047",
   "metadata": {},
   "outputs": [
    {
     "name": "stdout",
     "output_type": "stream",
     "text": [
      "('a', 'AA', 'a AA a')\n",
      "('a', 'BB', 'a BB a')\n",
      "('a', 'CC', 'a CC a')\n",
      "('a', 'DD', 'a DD a')\n",
      "('b', 'AA', 'b AA b')\n",
      "('b', 'BB', 'b BB b')\n",
      "('b', 'CC', 'b CC b')\n",
      "('b', 'DD', 'b DD b')\n",
      "('c', 'AA', 'c AA c')\n",
      "('c', 'BB', 'c BB c')\n",
      "('c', 'CC', 'c CC c')\n",
      "('c', 'DD', 'c DD c')\n",
      "('d', 'AA', 'd AA d')\n",
      "('d', 'BB', 'd BB d')\n",
      "('d', 'CC', 'd CC d')\n",
      "('d', 'DD', 'd DD d')\n"
     ]
    }
   ],
   "source": [
    "for o3 in ['a','b','c','d']:\n",
    "    for i3 in [\"AA\",\"BB\",\"CC\",\"DD\"]:\n",
    "        print ((o3, i3, o3+' ' + i3+' '+ o3))"
   ]
  },
  {
   "cell_type": "code",
   "execution_count": null,
   "id": "dd850798-60ac-457f-8221-8e419d75f095",
   "metadata": {},
   "outputs": [],
   "source": []
  }
 ],
 "metadata": {
  "kernelspec": {
   "display_name": "Python 3 (ipykernel)",
   "language": "python",
   "name": "python3"
  },
  "language_info": {
   "codemirror_mode": {
    "name": "ipython",
    "version": 3
   },
   "file_extension": ".py",
   "mimetype": "text/x-python",
   "name": "python",
   "nbconvert_exporter": "python",
   "pygments_lexer": "ipython3",
   "version": "3.8.18"
  }
 },
 "nbformat": 4,
 "nbformat_minor": 5
}
