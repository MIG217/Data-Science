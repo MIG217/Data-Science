{
 "cells": [
  {
   "cell_type": "markdown",
   "id": "6c51e6cb-6ff9-46a9-86a1-62d2ebe19c8f",
   "metadata": {},
   "source": [
    "## CMPINF 2100 Week 02\n",
    "\n",
    "### Simulating the average\n",
    "\n",
    "## Overview\n",
    "\n",
    "We have used programming techniques to calculating the average of randomly generated sequences of numbers.\n",
    "\n",
    "We introduced the idea of WHICH AVERAGE is correct?!?!?!?!\n",
    "\n",
    "But let's now dive deeper into this important question!\n",
    "\n",
    "## Import modules\n",
    "\n",
    "We have used the `random` module to generate random numbers using the `random.random()` function.\n",
    "\n",
    "But what exactly is the `random.random()` function doing ?!?!?!?!"
   ]
  },
  {
   "cell_type": "code",
   "execution_count": 1,
   "id": "a91c0739-8898-4542-8c78-ac5f3963364c",
   "metadata": {},
   "outputs": [
    {
     "name": "stdout",
     "output_type": "stream",
     "text": [
      "Interactive namespace is empty.\n"
     ]
    }
   ],
   "source": [
    "%whos"
   ]
  },
  {
   "cell_type": "code",
   "execution_count": 2,
   "id": "58945f93-7626-4e85-87fe-8698528cd520",
   "metadata": {},
   "outputs": [],
   "source": [
    "import random"
   ]
  },
  {
   "cell_type": "markdown",
   "id": "974d45d3-dea6-4587-987a-d04bd8d45228",
   "metadata": {},
   "source": [
    "We are going to also use `matplotlib.pyplot` to VISUALIZE the random numbers. The `matplotlib.pyplot` module has a REALLY long name. So instead of improving as it is... let's use an ALIAS!!!!"
   ]
  },
  {
   "cell_type": "code",
   "execution_count": 3,
   "id": "8e29f8df-62b9-48ac-9eb0-cac205317668",
   "metadata": {},
   "outputs": [],
   "source": [
    "import matplotlib.pyplot as plt"
   ]
  },
  {
   "cell_type": "code",
   "execution_count": 4,
   "id": "658a03bd-9ff9-421f-aca2-6fb2a129c99b",
   "metadata": {},
   "outputs": [
    {
     "name": "stdout",
     "output_type": "stream",
     "text": [
      "Variable   Type      Data/Info\n",
      "------------------------------\n",
      "plt        module    <module 'matplotlib.pyplo<...>es/matplotlib/pyplot.py'>\n",
      "random     module    <module 'random' from '/U<...>lib/python3.8/random.py'>\n"
     ]
    }
   ],
   "source": [
    "%whos"
   ]
  },
  {
   "cell_type": "markdown",
   "id": "731db0a0-f185-4550-9bf9-4bf476f04090",
   "metadata": {},
   "source": [
    "## Uniform random numbers\n",
    "\n",
    "The `random.random()` function generates random numbers UNIFORMLY between 0 and 1. But what does a UNIFORM DISTRIBUTION look like?"
   ]
  },
  {
   "cell_type": "code",
   "execution_count": 6,
   "id": "13350cf8-646a-4d00-a7ef-d7276152b997",
   "metadata": {},
   "outputs": [],
   "source": [
    "random.seed(2100)\n",
    "\n",
    "xu_1000 = [random.random() for _ in range(1000)]"
   ]
  },
  {
   "cell_type": "code",
   "execution_count": 7,
   "id": "feb9cc44-430b-4c65-80db-d3d65714eeb6",
   "metadata": {},
   "outputs": [
    {
     "data": {
      "text/plain": [
       "list"
      ]
     },
     "execution_count": 7,
     "metadata": {},
     "output_type": "execute_result"
    }
   ],
   "source": [
    "type(xu_1000)"
   ]
  },
  {
   "cell_type": "code",
   "execution_count": 8,
   "id": "9619c1cf-f39c-43f1-9780-4403c32826e8",
   "metadata": {},
   "outputs": [
    {
     "data": {
      "text/plain": [
       "1000"
      ]
     },
     "execution_count": 8,
     "metadata": {},
     "output_type": "execute_result"
    }
   ],
   "source": [
    "len(xu_1000)"
   ]
  },
  {
   "cell_type": "code",
   "execution_count": 9,
   "id": "bd0b9182-1181-42fe-8b08-31e7ac85d527",
   "metadata": {},
   "outputs": [
    {
     "data": {
      "text/plain": [
       "[0.764021138054951, 0.4692037101382426]"
      ]
     },
     "execution_count": 9,
     "metadata": {},
     "output_type": "execute_result"
    }
   ],
   "source": [
    "xu_1000[:2]"
   ]
  },
  {
   "cell_type": "code",
   "execution_count": 10,
   "id": "fb0fcf21-2926-4ec3-8993-3de1720b7868",
   "metadata": {},
   "outputs": [
    {
     "data": {
      "text/plain": [
       "[0.764021138054951,\n",
       " 0.4692037101382426,\n",
       " 0.09010549233469012,\n",
       " 0.08980190601697957,\n",
       " 0.5561956463771123]"
      ]
     },
     "execution_count": 10,
     "metadata": {},
     "output_type": "execute_result"
    }
   ],
   "source": [
    "xu_1000[:5]"
   ]
  },
  {
   "cell_type": "code",
   "execution_count": 11,
   "id": "29946647-65dd-4e96-83f3-ce4e205f980e",
   "metadata": {},
   "outputs": [
    {
     "data": {
      "text/plain": [
       "[0.764021138054951,\n",
       " 0.4692037101382426,\n",
       " 0.09010549233469012,\n",
       " 0.08980190601697957,\n",
       " 0.5561956463771123,\n",
       " 0.41097303757112746,\n",
       " 0.6979324821652212,\n",
       " 0.9157019989699348,\n",
       " 0.06734286989910154,\n",
       " 0.7015550970478079,\n",
       " 0.11078753610950587]"
      ]
     },
     "execution_count": 11,
     "metadata": {},
     "output_type": "execute_result"
    }
   ],
   "source": [
    "xu_1000[:11]"
   ]
  },
  {
   "cell_type": "code",
   "execution_count": 13,
   "id": "ea3e2b4c-b9e5-4a25-85e2-0427a5c5d03c",
   "metadata": {},
   "outputs": [
    {
     "data": {
      "text/plain": [
       "0.8964477774412416"
      ]
     },
     "execution_count": 13,
     "metadata": {},
     "output_type": "execute_result"
    }
   ],
   "source": [
    "xu_1000[-1]"
   ]
  },
  {
   "cell_type": "markdown",
   "id": "93fe849c-6ca4-42d6-a715-65fce0cf55e0",
   "metadata": {},
   "source": [
    "Visualize the DISTRIBUTION using a HISTOGRAM!!! For now, a quick intro on a histogram is the HIGHT of VERTICAL BARS denote the COUNTS of the observations in a small interval. The TALLER the bar the MORE observations are located within that interval. Histogram allow us to SEE where observations are CONCENTRATED vs where they are NOT concentrated."
   ]
  },
  {
   "cell_type": "code",
   "execution_count": 17,
   "id": "e461138a-d9ec-4338-af11-43b49b10898c",
   "metadata": {},
   "outputs": [
    {
     "data": {
      "image/png": "[encoded data removed]",
      "text/plain": [
       "<Figure size 640x480 with 1 Axes>"
      ]
     },
     "metadata": {},
     "output_type": "display_data"
    }
   ],
   "source": [
    "plt.hist(xu_1000, bins=11)\n",
    "plt.xlabel('x')\n",
    "plt.ylabel('count')\n",
    "\n",
    "plt.show()"
   ]
  },
  {
   "cell_type": "markdown",
   "id": "374b745d-1dc1-4276-bd34-0f1a06d112ca",
   "metadata": {},
   "source": [
    "What if we generate 100000 random numbers instead of just 1000 random numbers?"
   ]
  },
  {
   "cell_type": "code",
   "execution_count": 18,
   "id": "e88e522b-66f9-4805-9e90-631e5b46fefa",
   "metadata": {},
   "outputs": [
    {
     "data": {
      "image/png": "[encoded data removed]",
      "text/plain": [
       "<Figure size 640x480 with 1 Axes>"
      ]
     },
     "metadata": {},
     "output_type": "display_data"
    }
   ],
   "source": [
    "plt.hist ([random.random() for _ in range(100000)], bins=11)\n",
    "plt.xlabel('x')\n",
    "plt.ylabel('count')\n",
    "\n",
    "plt.show()"
   ]
  },
  {
   "cell_type": "markdown",
   "id": "33be968f-c23b-4d35-aa79-fce55ab3ac98",
   "metadata": {},
   "source": [
    "Define the function to calculating the average."
   ]
  },
  {
   "cell_type": "code",
   "execution_count": 21,
   "id": "0957543f-8908-44b4-aed9-4121a90e4cfa",
   "metadata": {},
   "outputs": [],
   "source": [
    "def my_avg(x):\n",
    "    return sum(x) / len(x)"
   ]
  },
  {
   "cell_type": "code",
   "execution_count": 22,
   "id": "40b95a43-dd24-44aa-9441-a473866f8ad5",
   "metadata": {},
   "outputs": [
    {
     "data": {
      "text/plain": [
       "0.4997182669368152"
      ]
     },
     "execution_count": 22,
     "metadata": {},
     "output_type": "execute_result"
    }
   ],
   "source": [
    "my_avg( [random.random() for _ in range(100000)] )"
   ]
  },
  {
   "cell_type": "code",
   "execution_count": 24,
   "id": "e8b604eb-c55a-49e1-9acf-caa7dad4b0cd",
   "metadata": {},
   "outputs": [
    {
     "data": {
      "text/plain": [
       "0.4997422726343657"
      ]
     },
     "execution_count": 24,
     "metadata": {},
     "output_type": "execute_result"
    }
   ],
   "source": [
    "random.seed(2100)\n",
    "\n",
    "my_avg([random.random() for _ in range(100000)])"
   ]
  },
  {
   "cell_type": "code",
   "execution_count": 25,
   "id": "ded37a64-f148-4bd0-ba07-05b592f09961",
   "metadata": {},
   "outputs": [
    {
     "data": {
      "text/plain": [
       "0.4997825950409591"
      ]
     },
     "execution_count": 25,
     "metadata": {},
     "output_type": "execute_result"
    }
   ],
   "source": [
    "random.seed(2100)\n",
    "\n",
    "my_avg([random.random() for _ in range(1000000)])"
   ]
  },
  {
   "cell_type": "code",
   "execution_count": 32,
   "id": "1c354991-dac5-4051-9812-93c43dea4e28",
   "metadata": {},
   "outputs": [
    {
     "data": {
      "text/plain": [
       "0.4998"
      ]
     },
     "execution_count": 32,
     "metadata": {},
     "output_type": "execute_result"
    }
   ],
   "source": [
    "random.seed(2100)\n",
    "\n",
    "round(my_avg([random.random() for _ in range(1000000)]), 4)"
   ]
  },
  {
   "cell_type": "markdown",
   "id": "bab6c2d1-579c-4b07-ad14-8537c0b477c1",
   "metadata": {},
   "source": [
    "Instead of using 1 million observations... what if we could ONLY collected 5 samples？？？？"
   ]
  },
  {
   "cell_type": "code",
   "execution_count": 35,
   "id": "4dda033f-8568-4b02-b23e-542940f450ad",
   "metadata": {},
   "outputs": [
    {
     "name": "stdout",
     "output_type": "stream",
     "text": [
      "0.3938655785843951\n",
      "0.5587010971306385\n",
      "0.5951333231565\n"
     ]
    }
   ],
   "source": [
    "random.seed(2100)\n",
    "\n",
    "print(my_avg ([random.random() for _ in range(5)]))\n",
    "\n",
    "print(my_avg([random.random() for _ in range(5)]))\n",
    "\n",
    "print(my_avg([random.random() for _ in range(5)]))"
   ]
  },
  {
   "cell_type": "markdown",
   "id": "27e30571-e4fc-48be-9c33-2a95124f0d75",
   "metadata": {},
   "source": [
    "Which of these 3 averages are CORRECT?!?!?!?!"
   ]
  },
  {
   "cell_type": "code",
   "execution_count": 36,
   "id": "2ea2eccd-b34b-4e70-bdca-c93724e75e29",
   "metadata": {},
   "outputs": [
    {
     "name": "stdout",
     "output_type": "stream",
     "text": [
      "[0.764021138054951, 0.4692037101382426, 0.09010549233469012, 0.08980190601697957, 0.5561956463771123]\n",
      "[0.41097303757112746, 0.6979324821652212, 0.9157019989699348, 0.06734286989910154, 0.7015550970478079]\n"
     ]
    }
   ],
   "source": [
    "random.seed(2100)\n",
    "\n",
    "print([random.random() for _ in range(5)])\n",
    "print([random.random() for _ in range(5)])"
   ]
  },
  {
   "cell_type": "code",
   "execution_count": 37,
   "id": "8fec3e89-7fcc-442b-9ea6-6e185e119867",
   "metadata": {},
   "outputs": [
    {
     "name": "stdout",
     "output_type": "stream",
     "text": [
      "1.9693278929219755\n",
      "2.793505485653193\n"
     ]
    }
   ],
   "source": [
    "random.seed(2100)\n",
    "\n",
    "print(sum([random.random() for _ in range(5)]))\n",
    "print(sum([random.random() for _ in range(5)]))"
   ]
  },
  {
   "cell_type": "markdown",
   "id": "7821e387-65c8-482d-9493-2e6bf9fecb4e",
   "metadata": {},
   "source": [
    "We have 3 different collections of 5 random numbers.\n",
    "\n",
    "The SAMPLE averages will therefore be different!!!!\n",
    "\n",
    "We can calculating an ESTAMATED of the AVERAGE based on a FINITE sample size!!!\n",
    "\n",
    "The real question we should be asking is HOW CONFIDENT are we in that estimate???\n",
    "\n",
    "or... what is the VARIABILITY of the estimated of the average?!?!?!?!\n",
    "\n",
    "## Simulate the variability of the average\n",
    "\n",
    "Let's use our programming techniques from this week to study the variation of the sample average!!!!!\n",
    "\n",
    "Two major steps to study the variability of the average!\n",
    "\n",
    "* Generate a sequence of random numbers from an ASSUMED distribution\n",
    "* Calculate the averafe given that sequence\n"
   ]
  },
  {
   "cell_type": "code",
   "execution_count": 38,
   "id": "099018bb-6bfe-4a7b-bd43-8d0576eb7b7c",
   "metadata": {},
   "outputs": [],
   "source": [
    "def gen_samples_calc_avg(N):\n",
    "    \"\"\"\n",
    "    Assume we are generating values from a UNIFORM distribution between 0 and 1\n",
    "    \"\"\"\n",
    "    return my_avg([random.random() for _ in range(N)])"
   ]
  },
  {
   "cell_type": "code",
   "execution_count": 40,
   "id": "a9ccf7ce-0d92-420e-b260-78c7415d9c99",
   "metadata": {},
   "outputs": [
    {
     "data": {
      "text/plain": [
       "0.3938655785843951"
      ]
     },
     "execution_count": 40,
     "metadata": {},
     "output_type": "execute_result"
    }
   ],
   "source": [
    "random.seed(2100)\n",
    "\n",
    "gen_samples_calc_avg(5)"
   ]
  },
  {
   "cell_type": "code",
   "execution_count": 41,
   "id": "8215a88a-0062-41bf-abc4-d8a2ac629be0",
   "metadata": {},
   "outputs": [
    {
     "name": "stdout",
     "output_type": "stream",
     "text": [
      "0.3938655785843951\n",
      "0.5587010971306385\n",
      "0.5951333231565\n"
     ]
    }
   ],
   "source": [
    "random.seed(2100)\n",
    "\n",
    "print(gen_samples_calc_avg(5))\n",
    "\n",
    "print(gen_samples_calc_avg(5))\n",
    "\n",
    "print(gen_samples_calc_avg(5))"
   ]
  },
  {
   "cell_type": "code",
   "execution_count": 42,
   "id": "f1a3b4d0-f7d1-49f5-a7d1-82b3ebcd8ef4",
   "metadata": {},
   "outputs": [
    {
     "name": "stdout",
     "output_type": "stream",
     "text": [
      "0.3938655785843951\n",
      "0.5587010971306385\n",
      "0.5951333231565\n",
      "0.5048822650128671\n",
      "0.5505699823868078\n",
      "0.6109906176437405\n",
      "0.5327641794141614\n",
      "0.27536713011085057\n",
      "0.5458884102553585\n"
     ]
    }
   ],
   "source": [
    "random.seed(2100)\n",
    "\n",
    "print(gen_samples_calc_avg(5))\n",
    "\n",
    "print(gen_samples_calc_avg(5))\n",
    "\n",
    "print(gen_samples_calc_avg(5))\n",
    "\n",
    "print(gen_samples_calc_avg(5))\n",
    "\n",
    "print(gen_samples_calc_avg(5))\n",
    "\n",
    "print(gen_samples_calc_avg(5))\n",
    "\n",
    "print(gen_samples_calc_avg(5))\n",
    "\n",
    "print(gen_samples_calc_avg(5))\n",
    "\n",
    "print(gen_samples_calc_avg(5))"
   ]
  },
  {
   "cell_type": "markdown",
   "id": "41ad58c5-7f3f-4803-b0f3-183513e85938",
   "metadata": {},
   "source": [
    "Let's GENERATE or REPEAT calculating the average from 5 random numbers... 1000 times!!!!"
   ]
  },
  {
   "cell_type": "code",
   "execution_count": 63,
   "id": "1b8f37c7-ba79-41d9-be31-7be7ebd4997e",
   "metadata": {},
   "outputs": [],
   "source": [
    "random.seed(2100)\n",
    "\n",
    "xbar_sim_N05_R1000=[gen_samples_calc_avg(5) for _ in range(1000)] "
   ]
  },
  {
   "cell_type": "code",
   "execution_count": 64,
   "id": "8bf48953-23dd-4fb8-9449-284cf644194c",
   "metadata": {},
   "outputs": [
    {
     "data": {
      "text/plain": [
       "1000"
      ]
     },
     "execution_count": 64,
     "metadata": {},
     "output_type": "execute_result"
    }
   ],
   "source": [
    "len(xbar_sim_N05_R1000)"
   ]
  },
  {
   "cell_type": "code",
   "execution_count": 65,
   "id": "8582986a-ae25-4896-a395-71f53b355e8c",
   "metadata": {},
   "outputs": [
    {
     "data": {
      "text/plain": [
       "list"
      ]
     },
     "execution_count": 65,
     "metadata": {},
     "output_type": "execute_result"
    }
   ],
   "source": [
    "type(xbar_sim_N05_R1000)"
   ]
  },
  {
   "cell_type": "code",
   "execution_count": 66,
   "id": "c4878aa2-940c-40a8-a4e8-b71c0952dfc6",
   "metadata": {},
   "outputs": [
    {
     "data": {
      "text/plain": [
       "[0.3938655785843951,\n",
       " 0.5587010971306385,\n",
       " 0.5951333231565,\n",
       " 0.5048822650128671,\n",
       " 0.5505699823868078]"
      ]
     },
     "execution_count": 66,
     "metadata": {},
     "output_type": "execute_result"
    }
   ],
   "source": [
    "xbar_sim_N05_R1000[:5]"
   ]
  },
  {
   "cell_type": "markdown",
   "id": "bee6dadf-af09-49b1-b587-aa8f8f24c0e1",
   "metadata": {},
   "source": [
    "The `xbar_sim_N05_R1000` list is a list of SAMPLE AVERAGE!!!! Let's visualize the DISTRIBUTION of the sample average using a histogram!!!!"
   ]
  },
  {
   "cell_type": "code",
   "execution_count": 67,
   "id": "2dc1867b-a9e7-4c64-85bd-100ed019a7fb",
   "metadata": {},
   "outputs": [
    {
     "data": {
      "image/png": "[encoded data removed]",
      "text/plain": [
       "<Figure size 640x480 with 1 Axes>"
      ]
     },
     "metadata": {},
     "output_type": "display_data"
    }
   ],
   "source": [
    "plt.hist(xbar_sim_N05_R1000, bins= 11)\n",
    "plt.xlabel('xbar')\n",
    "plt.ylabel('count')\n",
    "plt.xlim(0,1)\n",
    "\n",
    "plt.show()"
   ]
  },
  {
   "cell_type": "code",
   "execution_count": 68,
   "id": "89caa60b-e79c-4439-afdf-649e5c92a746",
   "metadata": {},
   "outputs": [
    {
     "data": {
      "text/plain": [
       "0.502647095657702"
      ]
     },
     "execution_count": 68,
     "metadata": {},
     "output_type": "execute_result"
    }
   ],
   "source": [
    "my_avg(xbar_sim_N05_R1000)"
   ]
  },
  {
   "cell_type": "markdown",
   "id": "6e7dd1e1-7a74-411b-ab33-e81856996f43",
   "metadata": {},
   "source": [
    "Let's repeat the process but this time use MORE REPLICATION!!!\n",
    "\n",
    "Let's REPULICATE 100000 times!!!!\n"
   ]
  },
  {
   "cell_type": "code",
   "execution_count": 77,
   "id": "6134232b-85d3-4b2b-b7d6-09e1e97687c7",
   "metadata": {},
   "outputs": [],
   "source": [
    "random.seed(2100)\n",
    "\n",
    "xbar_sim_N05_R100000=[ gen_samples_calc_avg(5) for _ in range(100000) ]"
   ]
  },
  {
   "cell_type": "code",
   "execution_count": 78,
   "id": "717a4f72-eb80-4986-a706-ed4ebae1a849",
   "metadata": {},
   "outputs": [
    {
     "data": {
      "text/plain": [
       "[0.3938655785843951,\n",
       " 0.5587010971306385,\n",
       " 0.5951333231565,\n",
       " 0.5048822650128671,\n",
       " 0.5505699823868078]"
      ]
     },
     "execution_count": 78,
     "metadata": {},
     "output_type": "execute_result"
    }
   ],
   "source": [
    "xbar_sim_N05_R100000[:5]"
   ]
  },
  {
   "cell_type": "code",
   "execution_count": 80,
   "id": "a6095480-cdd2-4a3b-84ab-3b06e29a1f00",
   "metadata": {},
   "outputs": [
    {
     "data": {
      "image/png": "[encoded data removed]",
      "text/plain": [
       "<Figure size 640x480 with 1 Axes>"
      ]
     },
     "metadata": {},
     "output_type": "display_data"
    }
   ],
   "source": [
    "plt.hist(xbar_sim_N05_R100000, bins=11)\n",
    "plt.xlabel('xbar')\n",
    "plt.ylabel('count')\n",
    "plt.xlim(0,1)\n",
    "plt.show()"
   ]
  },
  {
   "cell_type": "markdown",
   "id": "59eaab7b-7010-4686-8fdc-109303f05c08",
   "metadata": {},
   "source": [
    "What if we replicated a SMALL number of times??\n",
    "\n",
    "What if we replicated calculating the average of 5 numbers ... just 11 times?\n"
   ]
  },
  {
   "cell_type": "code",
   "execution_count": 81,
   "id": "cda12aa8-1771-4e28-99dc-a639147965f8",
   "metadata": {},
   "outputs": [],
   "source": [
    "random.seed(2100)\n",
    "\n",
    "xbar_sim_N05_R11=[gen_samples_calc_avg(5)  for _ in range(11)]"
   ]
  },
  {
   "cell_type": "code",
   "execution_count": 84,
   "id": "69cfaf5f-6cad-469d-b6a7-41985e9155c7",
   "metadata": {},
   "outputs": [
    {
     "data": {
      "image/png": "[encoded data removed]",
      "text/plain": [
       "<Figure size 640x480 with 1 Axes>"
      ]
     },
     "metadata": {},
     "output_type": "display_data"
    }
   ],
   "source": [
    "plt.hist(xbar_sim_N05_R11, bins=11)\n",
    "plt.xlabel('xbar')\n",
    "plt.ylabel('count')\n",
    "plt.xlim(0,1)\n",
    "\n",
    "plt.show()"
   ]
  },
  {
   "cell_type": "markdown",
   "id": "b7f3a302-2280-4823-9b76-e167bd565cb4",
   "metadata": {},
   "source": [
    "Let's study the DISTRIBUTION of the AVERAGE based on the NUMBER OF REPLICATION!!!"
   ]
  },
  {
   "cell_type": "code",
   "execution_count": 85,
   "id": "fb7e7d5a-a59d-434d-9a96-5c1f59716dbc",
   "metadata": {},
   "outputs": [],
   "source": [
    "num_replication=[5*(2**ix) for ix in range(12)]"
   ]
  },
  {
   "cell_type": "code",
   "execution_count": 86,
   "id": "40afd843-a3e7-4b98-a7b6-19d895f2d9ec",
   "metadata": {},
   "outputs": [
    {
     "data": {
      "text/plain": [
       "[5, 10, 20, 40, 80, 160, 320, 640, 1280, 2560, 5120, 10240]"
      ]
     },
     "execution_count": 86,
     "metadata": {},
     "output_type": "execute_result"
    }
   ],
   "source": [
    "num_replication"
   ]
  },
  {
   "cell_type": "markdown",
   "id": "5d83c4eb-252d-4027-a03f-a55c06e2332e",
   "metadata": {},
   "source": [
    "We need to use a function to support our iteration efforts. We know how to use a for-loop, but the `enumerate()` function provide EXTRA capabilities to a for-loop."
   ]
  },
  {
   "cell_type": "code",
   "execution_count": 87,
   "id": "369d392c-4151-4e11-b4a7-833a48bbe132",
   "metadata": {},
   "outputs": [
    {
     "name": "stdout",
     "output_type": "stream",
     "text": [
      "5\n",
      "10\n",
      "20\n",
      "40\n",
      "80\n",
      "160\n",
      "320\n",
      "640\n",
      "1280\n",
      "2560\n",
      "5120\n",
      "10240\n"
     ]
    }
   ],
   "source": [
    "for a_replication in num_replication:\n",
    "    print (a_replication)"
   ]
  },
  {
   "cell_type": "code",
   "execution_count": 89,
   "id": "f89c38c6-5cc4-4336-a855-631339365577",
   "metadata": {},
   "outputs": [
    {
     "name": "stdout",
     "output_type": "stream",
     "text": [
      "(0, 5)\n",
      "(1, 10)\n",
      "(2, 20)\n",
      "(3, 40)\n",
      "(4, 80)\n",
      "(5, 160)\n",
      "(6, 320)\n",
      "(7, 640)\n",
      "(8, 1280)\n",
      "(9, 2560)\n",
      "(10, 5120)\n",
      "(11, 10240)\n"
     ]
    }
   ],
   "source": [
    "for index_in_sequence, value_in_sequence in enumerate(num_replication):\n",
    "    print((index_in_sequence, value_in_sequence))"
   ]
  },
  {
   "cell_type": "code",
   "execution_count": 96,
   "id": "535dc997-325e-4b63-a83f-aa0bfce9c492",
   "metadata": {},
   "outputs": [
    {
     "data": {
      "image/png": "[encoded data removed]",
      "text/plain": [
       "<Figure size 1200x600 with 12 Axes>"
      ]
     },
     "metadata": {},
     "output_type": "display_data"
    }
   ],
   "source": [
    "# Create a 2*6 subplot layout with specified figure size\n",
    "fig, axs =plt.subplots(2, 6, figsize=(12,6), sharex=True, sharey=False)\n",
    "\n",
    "# Flatten the array of subplots to a 1D array \n",
    "axs=axs.ravel()\n",
    "\n",
    "# Iterate over each element and its index in num_replication list\n",
    "for i, nr in enumerate(num_replication):\n",
    "    random.seed(2100)\n",
    "    # Generate samples and plot the histogram\n",
    "    axs[i].hist([gen_samples_calc_avg(5) for _ in range(nr)], density=False, bins=15)\n",
    "    # Set the title of the subplot showing the current number of replications\n",
    "    axs[i].set_title('R: %d' %(nr))"
   ]
  },
  {
   "cell_type": "markdown",
   "id": "7a4e2f90-8c83-4ba8-85ab-caf3e01f3cf2",
   "metadata": {},
   "source": [
    "The distribution of the AVERAGE is CONVERGING to a BELL CURVE!!!!!\n",
    "\n",
    "A Bell Curve is the common name for the Gaussian or NORMAL distribution!!!!!!\n",
    "\n",
    "The distribution of the average is converging to a Normal distribution!!!!!\n",
    "\n",
    "This is the CENTRAL LIMIT THEOREM (CLT)!!!!!!!\n",
    "\n",
    "## Why does this matter?\n",
    "\n",
    "The CLT tells us the AVERAGE is distribution NORMALLY! We can therefore express the VARIABILTY of the average using a statistic that represents the WIDTH of the bell curve!!!!\n",
    "\n",
    "The VARIANCE is a statistic that describes VARIATION or VARIABILITY!!!!\n",
    "\n",
    "> LaTex: Type a mathematical formula\n",
    "\n",
    "$$ s^2 = \\frac{1}{N-1} \\sum_{n=1}^{N} \\left( \\left(x_n - \\bar{x}\\right)^2 \\right) $$"
   ]
  },
  {
   "cell_type": "markdown",
   "id": "9e19565c-ef63-45fd-b0d9-f63e7624d844",
   "metadata": {},
   "source": [
    "Break down the formula for the SAMPLE VARIANCE into 6 main steps!\n",
    "\n",
    "* Calculate the sample average\n",
    "* Calculate the DEVIATION (difference) of which measurement from the AVERAGE\n",
    "* Square the deviation\n",
    "* Sum the squared deviation across all measurements\n",
    "* Divide the SUM of the squared deviation by the length minus 1\n",
    "\n",
    "The VARIANCE is the MEAN squared deviation from the average!!!"
   ]
  },
  {
   "cell_type": "code",
   "execution_count": 97,
   "id": "3504fb4a-fc46-426a-8d05-5a905c6db4ff",
   "metadata": {},
   "outputs": [],
   "source": [
    "def my_variance(x):\n",
    "    xbar=my_avg(x)\n",
    "    square_deviation = [(xn-xbar)**2 for xn in x]\n",
    "    return sum(square_deviation)/ (len(x)-1)"
   ]
  },
  {
   "cell_type": "code",
   "execution_count": 98,
   "id": "e0758322-94c4-4ada-aaf9-6c3d38e8bb55",
   "metadata": {},
   "outputs": [
    {
     "name": "stdout",
     "output_type": "stream",
     "text": [
      "1.0\n"
     ]
    }
   ],
   "source": [
    "print (my_variance([1,2,3]))"
   ]
  },
  {
   "cell_type": "code",
   "execution_count": 99,
   "id": "0f9827c9-6381-4f67-bbd7-c7e0c9bec0bb",
   "metadata": {},
   "outputs": [
    {
     "name": "stdout",
     "output_type": "stream",
     "text": [
      "25.0\n"
     ]
    }
   ],
   "source": [
    "print(my_variance([5,10,15]))"
   ]
  },
  {
   "cell_type": "markdown",
   "id": "697d8ed7-6025-402a-8fa7-02dbe2dddb39",
   "metadata": {},
   "source": [
    "What is the VARIANCE of the average?"
   ]
  },
  {
   "cell_type": "code",
   "execution_count": 100,
   "id": "4eb98dec-1675-4dda-9819-7e0b16776a8d",
   "metadata": {},
   "outputs": [
    {
     "data": {
      "text/plain": [
       "0.01668089606017942"
      ]
     },
     "execution_count": 100,
     "metadata": {},
     "output_type": "execute_result"
    }
   ],
   "source": [
    "my_variance(xbar_sim_N05_R100000)"
   ]
  },
  {
   "cell_type": "markdown",
   "id": "4a1b7e7c-e729-4095-8497-9805bc3301ee",
   "metadata": {},
   "source": [
    "The standard deviation is the (half) width of the bell curve.\n",
    "\n",
    "The standard deviation is the SQUARE ROOT of the variance.\n",
    "\n",
    "Or, the variance is the standard deviation SQUARED."
   ]
  },
  {
   "cell_type": "code",
   "execution_count": 101,
   "id": "2f8f32c1-2afd-47c1-b66a-e257b9239d80",
   "metadata": {},
   "outputs": [],
   "source": [
    "def my_sd(x):\n",
    "    return my_variance(x) ** 0.5"
   ]
  },
  {
   "cell_type": "code",
   "execution_count": 102,
   "id": "a0a21ef3-633b-4774-af5c-d12678aa2d0d",
   "metadata": {},
   "outputs": [
    {
     "data": {
      "text/plain": [
       "0.129154543319929"
      ]
     },
     "execution_count": 102,
     "metadata": {},
     "output_type": "execute_result"
    }
   ],
   "source": [
    "my_sd(xbar_sim_N05_R100000)"
   ]
  },
  {
   "cell_type": "code",
   "execution_count": 103,
   "id": "879b49c9-9094-4727-943d-9f2421714b16",
   "metadata": {},
   "outputs": [
    {
     "data": {
      "text/plain": [
       "0.4998184423061442"
      ]
     },
     "execution_count": 103,
     "metadata": {},
     "output_type": "execute_result"
    }
   ],
   "source": [
    "my_avg(xbar_sim_N05_R100000)"
   ]
  },
  {
   "cell_type": "markdown",
   "id": "679131cc-0388-4ba9-9139-36b4e467649a",
   "metadata": {},
   "source": [
    "## How can we use this????\n",
    "\n",
    "We now know that REPLICATING calculating the average many times produces a normal distribution!!!\n",
    "\n",
    "We know that we can express the variability of the average using the standard deviation!!!\n",
    "\n",
    "Let's now study the variability based on different sample sizes!!!!\n"
   ]
  },
  {
   "cell_type": "code",
   "execution_count": 105,
   "id": "867df6e4-34b3-4068-b4b1-f298c6111b31",
   "metadata": {},
   "outputs": [],
   "source": [
    "sample_size_study=[3*(2**ix) for ix in range(15)]"
   ]
  },
  {
   "cell_type": "code",
   "execution_count": 106,
   "id": "3ad794b1-afdf-4253-86fc-f387a7ad1336",
   "metadata": {},
   "outputs": [
    {
     "data": {
      "text/plain": [
       "[3, 6, 12, 24, 48, 96, 192, 384, 768, 1536, 3072, 6144, 12288, 24576, 49152]"
      ]
     },
     "execution_count": 106,
     "metadata": {},
     "output_type": "execute_result"
    }
   ],
   "source": [
    "sample_size_study"
   ]
  },
  {
   "cell_type": "markdown",
   "id": "d63bf3ba-1478-4534-bead-3a5a6e7e3820",
   "metadata": {},
   "source": [
    "Let's replicate 2500 times calculating the average from a simple size to ensure we roughly have a Normal distribution for the SAMPLE AVERAGE!!!!\n",
    "\n",
    "We need a NEST LIST COMPREHENSION to execute our simulation!!!\n",
    "\n",
    "The OUTER list comprehension iterates over the sample size.\n",
    "\n",
    "The INNER list comprehension iterates over the replications."
   ]
  },
  {
   "cell_type": "code",
   "execution_count": 107,
   "id": "20c85c89-d775-47c3-a497-29e1d3d587f5",
   "metadata": {},
   "outputs": [],
   "source": [
    "random.seed(2100)\n",
    "\n",
    "study_sd_vs_samplesize=[my_sd([gen_samples_calc_avg(n) for _ in range(2500)]) for n in sample_size_study]"
   ]
  },
  {
   "cell_type": "code",
   "execution_count": 108,
   "id": "e50a4b96-efbc-4a62-b1f1-38b831f97289",
   "metadata": {},
   "outputs": [
    {
     "data": {
      "text/plain": [
       "list"
      ]
     },
     "execution_count": 108,
     "metadata": {},
     "output_type": "execute_result"
    }
   ],
   "source": [
    "type(study_sd_vs_samplesize)"
   ]
  },
  {
   "cell_type": "code",
   "execution_count": 109,
   "id": "cac35636-428f-4dab-967d-b2b492e9c326",
   "metadata": {},
   "outputs": [
    {
     "data": {
      "text/plain": [
       "15"
      ]
     },
     "execution_count": 109,
     "metadata": {},
     "output_type": "execute_result"
    }
   ],
   "source": [
    "len(study_sd_vs_samplesize)"
   ]
  },
  {
   "cell_type": "code",
   "execution_count": 110,
   "id": "a36d4b09-f8f2-475d-bf5f-d8a2cceb576c",
   "metadata": {},
   "outputs": [
    {
     "data": {
      "text/plain": [
       "True"
      ]
     },
     "execution_count": 110,
     "metadata": {},
     "output_type": "execute_result"
    }
   ],
   "source": [
    "len(sample_size_study) == len(study_sd_vs_samplesize)"
   ]
  },
  {
   "cell_type": "markdown",
   "id": "861d5927-79c1-406a-9743-44963485683b",
   "metadata": {},
   "source": [
    "Show the standard deviation of the average with respect to the sample size!"
   ]
  },
  {
   "cell_type": "code",
   "execution_count": 113,
   "id": "0f5ce9a7-65be-486e-9fee-1ff0e1f33d52",
   "metadata": {},
   "outputs": [
    {
     "data": {
      "image/png": "[encoded data removed]",
      "text/plain": [
       "<Figure size 1200x600 with 1 Axes>"
      ]
     },
     "metadata": {},
     "output_type": "display_data"
    }
   ],
   "source": [
    "fig, ax= plt.subplots(figsize=(12,6))\n",
    "\n",
    "ax.plot(sample_size_study, study_sd_vs_samplesize,'-o')\n",
    "ax.set_xscale('log')\n",
    "ax.set_xlabel('sample_value')\n",
    "ax.set_ylabel('standard deviation of the average')\n",
    "ax.grid(True)\n",
    "\n",
    "plt.show()"
   ]
  },
  {
   "cell_type": "markdown",
   "id": "3d160fab-e551-41c8-a79d-14e7d1608b2e",
   "metadata": {},
   "source": [
    "The standard deviation on the average is incredibly important!!!!\n",
    "\n",
    "The fact that the standard deviation on the average decreases as the SAMPLE SIZE INCREASE is VERY IMPORTANT!!!!\n",
    "\n",
    "The standard deviation on the average has a SPECIAL name: STANDARD ERROR ON THE MEAN (SEM)!!!!!!!\n",
    "\n",
    "## Theory\n",
    "\n",
    "The STANDARD ERROR ON THE MEAN (SEM) has a formula!!!!\n",
    "\n",
    "SEM = (standard deviation) / (square root of the number of samples)\n",
    "\n",
    "In math... LaTex\n",
    "\n",
    "$$ \\mathrm{SEM} = \\frac{\\sigma}{\\sqrt{N}}$$\n",
    "\n",
    "The $\\sigma$ is the standard deviation of the measurements. We are currently using a random number generate that generates UNIFORM random numbers. There is a KNOWN formula for the VARIANCE of the UNIFORM distribution.\n",
    "\n",
    "Let's assume the LOWER bound is $a$ and the UPPER bound is $b$. The formula for the VARIANCE of a UNIFORM distribution is:\n",
    "\n",
    "$$ Variance = \\frac{1}{12} \\left (b-a \\right)^2 $$ \n",
    "\n",
    "We have worked with a uniform between 0 and 1. Thus the variance is:\n",
    "\n",
    "$$ Variance = \\frac{1}{12} $$\n",
    "\n",
    "The standard deviation is the square root of the variance:\n",
    "\n",
    "$$ \\sigma = \\frac{1}{\\sqrt{12}}$$\n",
    "\n",
    "The SEM for OUR example is then:\n",
    "\n",
    "$$ \\mathrm{SEM} = \\frac{1}{\\sqrt{12 \\times N }}$$\n",
    "\n",
    "OR\n",
    "\n",
    "$$ \\mathrm{SEM} = \\left( \\frac{1/12}{N} \\right)^{0.5} $$ \n",
    "\n",
    "Let's use the formula and compare the THEORICAL SEM to our SIMULATION RESULTS!!!"
   ]
  },
  {
   "cell_type": "code",
   "execution_count": 115,
   "id": "bdb3ec71-42bc-4d2e-b677-f3f82c32ce83",
   "metadata": {},
   "outputs": [],
   "source": [
    "sem_theory = [ ((1/12)/n)**0.5 for n in sample_size_study]"
   ]
  },
  {
   "cell_type": "code",
   "execution_count": 116,
   "id": "7dfe9eb0-96f1-498a-a208-1abe7146573a",
   "metadata": {},
   "outputs": [
    {
     "data": {
      "text/plain": [
       "15"
      ]
     },
     "execution_count": 116,
     "metadata": {},
     "output_type": "execute_result"
    }
   ],
   "source": [
    "len(sem_theory)"
   ]
  },
  {
   "cell_type": "code",
   "execution_count": 117,
   "id": "ec722da1-2262-421d-a413-8a27db1bf264",
   "metadata": {},
   "outputs": [
    {
     "data": {
      "text/plain": [
       "list"
      ]
     },
     "execution_count": 117,
     "metadata": {},
     "output_type": "execute_result"
    }
   ],
   "source": [
    "type(sem_theory)"
   ]
  },
  {
   "cell_type": "code",
   "execution_count": 118,
   "id": "fcffe207-b142-4081-b175-ebdbc5f12dca",
   "metadata": {},
   "outputs": [
    {
     "data": {
      "image/png": "[encoded data removed]",
      "text/plain": [
       "<Figure size 1200x600 with 1 Axes>"
      ]
     },
     "metadata": {},
     "output_type": "display_data"
    }
   ],
   "source": [
    "fig, ax= plt.subplots(figsize=(12,6))\n",
    "\n",
    "ax.plot(sample_size_study, study_sd_vs_samplesize,'-o', label='simulation')\n",
    "ax.plot(sample_size_study, sem_theory, label='theory')\n",
    "ax.set_xscale('log')\n",
    "ax.set_xlabel('sample_value')\n",
    "ax.set_ylabel('standard deviation of the average')\n",
    "ax.grid(True)\n",
    "ax.legend()\n",
    "\n",
    "plt.show()"
   ]
  },
  {
   "cell_type": "markdown",
   "id": "4ef0d54b-133d-482b-9777-75fe89713c7b",
   "metadata": {},
   "source": [
    "## Using other distribution\n",
    "\n",
    "We can repeat this exercise by generating random numbers from OTHER distribution.\n",
    "\n",
    "You must do that in the homework!"
   ]
  },
  {
   "cell_type": "code",
   "execution_count": 119,
   "id": "438257e1-8c5f-46d1-812b-2dd9ebdffded",
   "metadata": {},
   "outputs": [
    {
     "data": {
      "text/plain": [
       "['BPF',\n",
       " 'LOG4',\n",
       " 'NV_MAGICCONST',\n",
       " 'RECIP_BPF',\n",
       " 'Random',\n",
       " 'SG_MAGICCONST',\n",
       " 'SystemRandom',\n",
       " 'TWOPI',\n",
       " '_Sequence',\n",
       " '_Set',\n",
       " '__all__',\n",
       " '__builtins__',\n",
       " '__cached__',\n",
       " '__doc__',\n",
       " '__file__',\n",
       " '__loader__',\n",
       " '__name__',\n",
       " '__package__',\n",
       " '__spec__',\n",
       " '_accumulate',\n",
       " '_acos',\n",
       " '_bisect',\n",
       " '_ceil',\n",
       " '_cos',\n",
       " '_e',\n",
       " '_exp',\n",
       " '_inst',\n",
       " '_log',\n",
       " '_os',\n",
       " '_pi',\n",
       " '_random',\n",
       " '_repeat',\n",
       " '_sha512',\n",
       " '_sin',\n",
       " '_sqrt',\n",
       " '_test',\n",
       " '_test_generator',\n",
       " '_urandom',\n",
       " '_warn',\n",
       " 'betavariate',\n",
       " 'choice',\n",
       " 'choices',\n",
       " 'expovariate',\n",
       " 'gammavariate',\n",
       " 'gauss',\n",
       " 'getrandbits',\n",
       " 'getstate',\n",
       " 'lognormvariate',\n",
       " 'normalvariate',\n",
       " 'paretovariate',\n",
       " 'randint',\n",
       " 'random',\n",
       " 'randrange',\n",
       " 'sample',\n",
       " 'seed',\n",
       " 'setstate',\n",
       " 'shuffle',\n",
       " 'triangular',\n",
       " 'uniform',\n",
       " 'vonmisesvariate',\n",
       " 'weibullvariate']"
      ]
     },
     "execution_count": 119,
     "metadata": {},
     "output_type": "execute_result"
    }
   ],
   "source": [
    "dir(random)"
   ]
  },
  {
   "cell_type": "code",
   "execution_count": 120,
   "id": "a807beb4-ee49-45c1-b428-4fdbfeee9044",
   "metadata": {},
   "outputs": [
    {
     "name": "stdout",
     "output_type": "stream",
     "text": [
      "Help on method gauss in module random:\n",
      "\n",
      "gauss(mu, sigma) method of random.Random instance\n",
      "    Gaussian distribution.\n",
      "    \n",
      "    mu is the mean, and sigma is the standard deviation.  This is\n",
      "    slightly faster than the normalvariate() function.\n",
      "    \n",
      "    Not thread-safe without a lock around calls.\n",
      "\n"
     ]
    }
   ],
   "source": [
    "help(random.gauss)"
   ]
  },
  {
   "cell_type": "code",
   "execution_count": 122,
   "id": "46f4564d-fbe7-4cf3-b60f-08ae6ed1f142",
   "metadata": {},
   "outputs": [
    {
     "data": {
      "text/plain": [
       "228.2934387071578"
      ]
     },
     "execution_count": 122,
     "metadata": {},
     "output_type": "execute_result"
    }
   ],
   "source": [
    "random.gauss(mu=250, sigma=20)"
   ]
  },
  {
   "cell_type": "code",
   "execution_count": 123,
   "id": "9162c525-2339-4a33-a71c-ba5b360ba0cc",
   "metadata": {},
   "outputs": [
    {
     "data": {
      "text/plain": [
       "250.4944176547876"
      ]
     },
     "execution_count": 123,
     "metadata": {},
     "output_type": "execute_result"
    }
   ],
   "source": [
    "random.gauss(mu=250, sigma=2)"
   ]
  },
  {
   "cell_type": "markdown",
   "id": "da29eb62-3ad4-4da3-bdf7-927344c61ec7",
   "metadata": {},
   "source": [
    "## Why does this matter?\n",
    "\n",
    "We collect data and more often than not, we have relatively small sample size.\n",
    "\n",
    "How confident are we on the AVERAGE estimate based on those small simple size?!?!?!\n",
    "\n",
    "For example, how confident are we on the sample average estimate using just 5 observations????"
   ]
  },
  {
   "cell_type": "code",
   "execution_count": 125,
   "id": "da452a9f-2124-48eb-a2ae-29fd66d31dca",
   "metadata": {},
   "outputs": [],
   "source": [
    "random.seed(2100)\n",
    "\n",
    "yu=[random.random() for _ in range(5)]"
   ]
  },
  {
   "cell_type": "code",
   "execution_count": 126,
   "id": "ff37d745-99f3-418c-bae8-93e92a749e0b",
   "metadata": {},
   "outputs": [
    {
     "data": {
      "text/plain": [
       "[0.764021138054951,\n",
       " 0.4692037101382426,\n",
       " 0.09010549233469012,\n",
       " 0.08980190601697957,\n",
       " 0.5561956463771123]"
      ]
     },
     "execution_count": 126,
     "metadata": {},
     "output_type": "execute_result"
    }
   ],
   "source": [
    "yu"
   ]
  },
  {
   "cell_type": "code",
   "execution_count": 128,
   "id": "04351c98-759a-4195-ac4f-f315784719f7",
   "metadata": {},
   "outputs": [
    {
     "name": "stdout",
     "output_type": "stream",
     "text": [
      "0.3938655785843951\n"
     ]
    }
   ],
   "source": [
    "sample_avg=my_avg(yu)\n",
    "\n",
    "print(sample_avg)"
   ]
  },
  {
   "cell_type": "markdown",
   "id": "292f5f9a-13e2-4bce-96af-797d530927bf",
   "metadata": {},
   "source": [
    "We can express our CONFIDENCE using CLT and the standard error!!!! The CONFIDENCE INTERVAL represents where we anticipate the average to be!!!!!\n",
    "\n",
    "The most common type of confidence interval is the 95% confidence interval which represents there's 95% chance the average is somewhere inside that interval!!!!\n",
    "\n",
    "The 95% confidence interval is approximately equal to the sample average +/- 2 times the SEM!!!\n",
    "\n",
    "$$ 95\\% \\ \\mathrm{confidence} \\ \\mathrm{interval} = \\left( \\mathrm{average} - 2 \\times \\mathrm{SEM}, \\mathrm{average} + 2 \\times \\mathrm{SEM} \\right ) $$"
   ]
  },
  {
   "cell_type": "code",
   "execution_count": 129,
   "id": "eb9ee503-ebc3-45a4-8298-c8b252555f90",
   "metadata": {},
   "outputs": [],
   "source": [
    "sample_sd=my_sd(yu)"
   ]
  },
  {
   "cell_type": "code",
   "execution_count": 130,
   "id": "5324fabb-b8a6-4ef8-a8e9-f2f93349525c",
   "metadata": {},
   "outputs": [
    {
     "data": {
      "text/plain": [
       "0.29739154752454966"
      ]
     },
     "execution_count": 130,
     "metadata": {},
     "output_type": "execute_result"
    }
   ],
   "source": [
    "sample_sd"
   ]
  },
  {
   "cell_type": "code",
   "execution_count": 131,
   "id": "d2ef5fbe-1e3b-4032-be60-be5f0bd757e1",
   "metadata": {},
   "outputs": [],
   "source": [
    "sem=sample_sd/(len(yu)**0.5)"
   ]
  },
  {
   "cell_type": "code",
   "execution_count": 132,
   "id": "04e336af-11f9-4ee0-9945-b4f26b30a6ec",
   "metadata": {},
   "outputs": [
    {
     "data": {
      "text/plain": [
       "0.13299754323975047"
      ]
     },
     "execution_count": 132,
     "metadata": {},
     "output_type": "execute_result"
    }
   ],
   "source": [
    "sem"
   ]
  },
  {
   "cell_type": "code",
   "execution_count": 133,
   "id": "a32c306b-92d7-4011-93ac-b94e020369ea",
   "metadata": {},
   "outputs": [],
   "source": [
    "conf_int=(sample_avg-2*sem, sample_avg+2*sem)"
   ]
  },
  {
   "cell_type": "code",
   "execution_count": 134,
   "id": "06d75f6e-fd58-4ed5-9fba-e7c652abafe7",
   "metadata": {},
   "outputs": [
    {
     "data": {
      "text/plain": [
       "(0.12787049210489415, 0.6598606650638961)"
      ]
     },
     "execution_count": 134,
     "metadata": {},
     "output_type": "execute_result"
    }
   ],
   "source": [
    "conf_int"
   ]
  },
  {
   "cell_type": "code",
   "execution_count": 135,
   "id": "9fb76744-d0e8-40ce-a648-c40fc8b5a4d5",
   "metadata": {},
   "outputs": [
    {
     "data": {
      "text/plain": [
       "0.3938655785843951"
      ]
     },
     "execution_count": 135,
     "metadata": {},
     "output_type": "execute_result"
    }
   ],
   "source": [
    "sample_avg"
   ]
  },
  {
   "cell_type": "code",
   "execution_count": 136,
   "id": "a54d54d8-4ffa-4718-911c-347442718c36",
   "metadata": {},
   "outputs": [
    {
     "data": {
      "text/plain": [
       "0.531990172959002"
      ]
     },
     "execution_count": 136,
     "metadata": {},
     "output_type": "execute_result"
    }
   ],
   "source": [
    "conf_int[1]-conf_int[0]"
   ]
  },
  {
   "cell_type": "markdown",
   "id": "227afb86-ec51-4c6c-8578-dec7ef7fd71e",
   "metadata": {},
   "source": [
    "Whatif we could instead observe 1000 measurements??????"
   ]
  },
  {
   "cell_type": "code",
   "execution_count": 137,
   "id": "42a21c4a-6ec2-4c4f-ba9a-d52e3013e434",
   "metadata": {},
   "outputs": [],
   "source": [
    "random.seed(2100)\n",
    "\n",
    "zu=[random.random() for _ in range(1000)]"
   ]
  },
  {
   "cell_type": "code",
   "execution_count": 140,
   "id": "e8478bd0-e107-4680-9019-83804566da9c",
   "metadata": {},
   "outputs": [],
   "source": [
    "sample_avg_z=my_avg(zu)"
   ]
  },
  {
   "cell_type": "code",
   "execution_count": 141,
   "id": "a84041ca-5399-4982-a5b3-6ffe506f55d3",
   "metadata": {},
   "outputs": [
    {
     "data": {
      "text/plain": [
       "0.5122667139741787"
      ]
     },
     "execution_count": 141,
     "metadata": {},
     "output_type": "execute_result"
    }
   ],
   "source": [
    "sample_avg_z"
   ]
  },
  {
   "cell_type": "code",
   "execution_count": 142,
   "id": "7087c998-7642-4618-9302-239e2c77263c",
   "metadata": {},
   "outputs": [],
   "source": [
    "sample_sd_z=my_sd(zu)"
   ]
  },
  {
   "cell_type": "code",
   "execution_count": 143,
   "id": "8044925f-5d07-4096-985c-22ee2979a4ec",
   "metadata": {},
   "outputs": [
    {
     "data": {
      "text/plain": [
       "0.2882658778232974"
      ]
     },
     "execution_count": 143,
     "metadata": {},
     "output_type": "execute_result"
    }
   ],
   "source": [
    "sample_sd_z"
   ]
  },
  {
   "cell_type": "code",
   "execution_count": 152,
   "id": "7ff7b197-c543-4f7f-9f30-1d17fbe02e39",
   "metadata": {},
   "outputs": [],
   "source": [
    "sem_z=sample_sd_z/(len(zu)**0.5)"
   ]
  },
  {
   "cell_type": "code",
   "execution_count": 153,
   "id": "17f063fa-0292-4a90-998d-2e3110ae11c6",
   "metadata": {},
   "outputs": [
    {
     "data": {
      "text/plain": [
       "0.009115767456294407"
      ]
     },
     "execution_count": 153,
     "metadata": {},
     "output_type": "execute_result"
    }
   ],
   "source": [
    "sem_z"
   ]
  },
  {
   "cell_type": "code",
   "execution_count": 156,
   "id": "ee01b311-79fd-4a5f-a970-67ae79a9f283",
   "metadata": {},
   "outputs": [],
   "source": [
    "conf_int=(sample_avg_z-(2*sem_z), sample_avg_z+(2*sem_z))"
   ]
  },
  {
   "cell_type": "code",
   "execution_count": 157,
   "id": "f0b7b927-d66e-4bc9-b7dd-f9588501b27b",
   "metadata": {},
   "outputs": [
    {
     "data": {
      "text/plain": [
       "(0.49403517906158984, 0.5304982488867674)"
      ]
     },
     "execution_count": 157,
     "metadata": {},
     "output_type": "execute_result"
    }
   ],
   "source": [
    "conf_int"
   ]
  },
  {
   "cell_type": "code",
   "execution_count": null,
   "id": "05812cf1-5691-4511-99e0-a3c90911e00f",
   "metadata": {},
   "outputs": [],
   "source": []
  }
 ],
 "metadata": {
  "kernelspec": {
   "display_name": "Python 3 (ipykernel)",
   "language": "python",
   "name": "python3"
  },
  "language_info": {
   "codemirror_mode": {
    "name": "ipython",
    "version": 3
   },
   "file_extension": ".py",
   "mimetype": "text/x-python",
   "name": "python",
   "nbconvert_exporter": "python",
   "pygments_lexer": "ipython3",
   "version": "3.8.18"
  }
 },
 "nbformat": 4,
 "nbformat_minor": 5
}
