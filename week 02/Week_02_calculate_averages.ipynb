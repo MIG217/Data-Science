{
 "cells": [
  {
   "cell_type": "markdown",
   "id": "13804cf3-2bf5-43eb-9033-7874f26be7e8",
   "metadata": {},
   "source": [
    "## CMPINF 2100\n",
    "\n",
    "### Calculating averages\n",
    "\n",
    "## Overview\n",
    "\n",
    "We have learned how to store values in lists, iterate, apply functions, apply methods, and define your own functions.\n",
    "\n",
    "Let's now use ALL of those skills to tackle an important and common data analysis task!!!\n",
    "\n",
    "## Import modules\n",
    "\n",
    "We will need the `random` module, but we won't use it right away."
   ]
  },
  {
   "cell_type": "code",
   "execution_count": 1,
   "id": "4052cc1e-af98-4120-a495-7df2c33ec20c",
   "metadata": {},
   "outputs": [],
   "source": [
    "import random"
   ]
  },
  {
   "cell_type": "markdown",
   "id": "6cb36ad1-b587-466f-b139-703f7c6128f3",
   "metadata": {},
   "source": [
    "## Average\n",
    "\n",
    "How do we calculate the AVERAGE of a collection of numbers????\n",
    "\n",
    "For example, what is the average of the following 3 numbers:"
   ]
  },
  {
   "cell_type": "code",
   "execution_count": 2,
   "id": "0698609b-34ae-4db0-9a5b-28c78704174f",
   "metadata": {},
   "outputs": [
    {
     "data": {
      "text/plain": [
       "[1, 2, 3]"
      ]
     },
     "execution_count": 2,
     "metadata": {},
     "output_type": "execute_result"
    }
   ],
   "source": [
    "[1, 2, 3]"
   ]
  },
  {
   "cell_type": "markdown",
   "id": "c7d433e5-80e9-4310-8b8d-8a94d23ff830",
   "metadata": {},
   "source": [
    "Calculateing the average consists of 3 steps.\n",
    "\n",
    "The FIRST step is to SUM the values in the collection."
   ]
  },
  {
   "cell_type": "code",
   "execution_count": 3,
   "id": "e26827c4-0be5-451f-b6d1-1e1dad595036",
   "metadata": {},
   "outputs": [
    {
     "data": {
      "text/plain": [
       "6"
      ]
     },
     "execution_count": 3,
     "metadata": {},
     "output_type": "execute_result"
    }
   ],
   "source": [
    "1+2+3"
   ]
  },
  {
   "cell_type": "code",
   "execution_count": 4,
   "id": "a4431cf9-5e7d-4645-afd3-a6de9f31482d",
   "metadata": {},
   "outputs": [
    {
     "data": {
      "text/plain": [
       "[1, 2, 3]"
      ]
     },
     "execution_count": 4,
     "metadata": {},
     "output_type": "execute_result"
    }
   ],
   "source": [
    "[1,2,3]"
   ]
  },
  {
   "cell_type": "code",
   "execution_count": 5,
   "id": "5cab84e3-93b4-4572-bd65-05851eed8e7d",
   "metadata": {},
   "outputs": [],
   "source": [
    "a_sum=0\n",
    "for a_value in [1,2,3]:\n",
    "    a_sum = a_value+a_sum"
   ]
  },
  {
   "cell_type": "code",
   "execution_count": 6,
   "id": "7e92bcc5-0c2d-42b4-8ab2-c34f630603a8",
   "metadata": {},
   "outputs": [
    {
     "data": {
      "text/plain": [
       "6"
      ]
     },
     "execution_count": 6,
     "metadata": {},
     "output_type": "execute_result"
    }
   ],
   "source": [
    "a_sum"
   ]
  },
  {
   "cell_type": "code",
   "execution_count": 7,
   "id": "29d8cb22-9db2-49f7-a4c9-0f876d4b1404",
   "metadata": {},
   "outputs": [
    {
     "data": {
      "text/plain": [
       "6"
      ]
     },
     "execution_count": 7,
     "metadata": {},
     "output_type": "execute_result"
    }
   ],
   "source": [
    "sum([1,2,3])"
   ]
  },
  {
   "cell_type": "markdown",
   "id": "4a654332-db0c-4928-aa64-7049337b6530",
   "metadata": {},
   "source": [
    "The second step is to COUNT the number of elements in the collections."
   ]
  },
  {
   "cell_type": "code",
   "execution_count": 8,
   "id": "e3c632ec-1748-4d43-b7bb-ec3917bffb51",
   "metadata": {},
   "outputs": [
    {
     "data": {
      "text/plain": [
       "3"
      ]
     },
     "execution_count": 8,
     "metadata": {},
     "output_type": "execute_result"
    }
   ],
   "source": [
    "len([1,2,3])"
   ]
  },
  {
   "cell_type": "markdown",
   "id": "129bbe2b-f335-48aa-92a4-56fdc9c58c52",
   "metadata": {},
   "source": [
    "The THIRD and FINAL steo is to DEVIDE the SUM by the LENGTH!!!!"
   ]
  },
  {
   "cell_type": "code",
   "execution_count": 9,
   "id": "3ee0d7bc-fa47-4e36-8b77-d1bd935ac960",
   "metadata": {},
   "outputs": [
    {
     "data": {
      "text/plain": [
       "2.0"
      ]
     },
     "execution_count": 9,
     "metadata": {},
     "output_type": "execute_result"
    }
   ],
   "source": [
    "sum([1,2,3]) / len([1,2,3])"
   ]
  },
  {
   "cell_type": "code",
   "execution_count": 10,
   "id": "3d0bea04-5a11-4b78-aa57-825e4051943a",
   "metadata": {},
   "outputs": [
    {
     "data": {
      "text/plain": [
       "2.0"
      ]
     },
     "execution_count": 10,
     "metadata": {},
     "output_type": "execute_result"
    }
   ],
   "source": [
    "6/3"
   ]
  },
  {
   "cell_type": "code",
   "execution_count": 11,
   "id": "43b1853e-d74e-4792-b12e-64ece4b1a7ee",
   "metadata": {},
   "outputs": [],
   "source": [
    "x_a=[1,2,3,4,5,6,7,8]"
   ]
  },
  {
   "cell_type": "code",
   "execution_count": 12,
   "id": "e508fe6e-45f9-4b60-8cbc-1299acb2024e",
   "metadata": {},
   "outputs": [
    {
     "data": {
      "text/plain": [
       "4.5"
      ]
     },
     "execution_count": 12,
     "metadata": {},
     "output_type": "execute_result"
    }
   ],
   "source": [
    "sum(x_a) / len(x_a)"
   ]
  },
  {
   "cell_type": "code",
   "execution_count": 17,
   "id": "0fec4f5c-77ec-4bf8-b5e5-626e7902a284",
   "metadata": {},
   "outputs": [],
   "source": [
    "x_b=[-1, 10, -2, 3.14, 5.5, 300, -200, -11, 1034]"
   ]
  },
  {
   "cell_type": "code",
   "execution_count": 18,
   "id": "0de49380-32d7-4c92-a33a-828f9818cef8",
   "metadata": {},
   "outputs": [
    {
     "data": {
      "text/plain": [
       "126.51555555555554"
      ]
     },
     "execution_count": 18,
     "metadata": {},
     "output_type": "execute_result"
    }
   ],
   "source": [
    "sum(x_b)/len(x_b)"
   ]
  },
  {
   "cell_type": "markdown",
   "id": "44274298-f2e1-4159-8a64-9fc1f3e8defa",
   "metadata": {},
   "source": [
    "Let's define our OWN custom function for calculating the AVERAGE of values contained in a list!"
   ]
  },
  {
   "cell_type": "code",
   "execution_count": 38,
   "id": "85227b14-ca77-4367-9a36-b2e873d1fdbd",
   "metadata": {},
   "outputs": [],
   "source": [
    "def my_avg(x):\n",
    "    \"\"\"\n",
    "    This is a docstring. It serves as a MULTI LINE comment.\n",
    "\n",
    "    Provide useful description and discussion of the INPUT arguments and OPERATION of the function.\n",
    "\n",
    "    This function accepts x as an input argument. Let's assume x is a LIST of integers/floats.\n",
    "\n",
    "    The function returns the AVERAGE of the list.\n",
    "    \"\"\"\n",
    "    return sum(x) / len(x)\n"
   ]
  },
  {
   "cell_type": "code",
   "execution_count": 39,
   "id": "15014851-bb1a-486d-b800-84480f6d89bb",
   "metadata": {},
   "outputs": [
    {
     "name": "stdout",
     "output_type": "stream",
     "text": [
      "Variable   Type        Data/Info\n",
      "--------------------------------\n",
      "a_sum      int         6\n",
      "a_value    int         3\n",
      "my_avg     function    <function my_avg at 0x7f89f3b03550>\n",
      "random     module      <module 'random' from '/U<...>lib/python3.8/random.py'>\n",
      "x          list        n=3\n",
      "x_a        list        n=8\n",
      "x_b        list        n=9\n"
     ]
    }
   ],
   "source": [
    "%whos"
   ]
  },
  {
   "cell_type": "code",
   "execution_count": 40,
   "id": "038c785c-7e7c-4c8d-a819-b5877a528bd9",
   "metadata": {},
   "outputs": [
    {
     "data": {
      "text/plain": [
       "<function __main__.my_avg(x)>"
      ]
     },
     "execution_count": 40,
     "metadata": {},
     "output_type": "execute_result"
    }
   ],
   "source": [
    "my_avg"
   ]
  },
  {
   "cell_type": "code",
   "execution_count": 41,
   "id": "349e2a73-42f4-486b-b92e-0b0767fda966",
   "metadata": {},
   "outputs": [
    {
     "ename": "TypeError",
     "evalue": "my_avg() missing 1 required positional argument: 'x'",
     "output_type": "error",
     "traceback": [
      "\u001b[0;31m---------------------------------------------------------------------------\u001b[0m",
      "\u001b[0;31mTypeError\u001b[0m                                 Traceback (most recent call last)",
      "Cell \u001b[0;32mIn[41], line 1\u001b[0m\n\u001b[0;32m----> 1\u001b[0m \u001b[43mmy_avg\u001b[49m\u001b[43m(\u001b[49m\u001b[43m)\u001b[49m\n",
      "\u001b[0;31mTypeError\u001b[0m: my_avg() missing 1 required positional argument: 'x'"
     ]
    }
   ],
   "source": [
    "my_avg()"
   ]
  },
  {
   "cell_type": "code",
   "execution_count": 43,
   "id": "39ce26b0-1f51-41a1-8764-9e95b796e97e",
   "metadata": {},
   "outputs": [
    {
     "data": {
      "text/plain": [
       "2.0"
      ]
     },
     "execution_count": 43,
     "metadata": {},
     "output_type": "execute_result"
    }
   ],
   "source": [
    "my_avg([1,2,3])"
   ]
  },
  {
   "cell_type": "code",
   "execution_count": 44,
   "id": "68f6656f-a2b9-468b-8834-9fa9aa8acb61",
   "metadata": {},
   "outputs": [
    {
     "data": {
      "text/plain": [
       "4.5"
      ]
     },
     "execution_count": 44,
     "metadata": {},
     "output_type": "execute_result"
    }
   ],
   "source": [
    "my_avg(x_a)"
   ]
  },
  {
   "cell_type": "code",
   "execution_count": 45,
   "id": "f4964d4d-388f-466f-b78b-67ab16293bf5",
   "metadata": {},
   "outputs": [
    {
     "data": {
      "text/plain": [
       "126.51555555555554"
      ]
     },
     "execution_count": 45,
     "metadata": {},
     "output_type": "execute_result"
    }
   ],
   "source": [
    "my_avg(x_b)"
   ]
  },
  {
   "cell_type": "markdown",
   "id": "4b583076-6543-4043-bbb1-b49d809c32f7",
   "metadata": {},
   "source": [
    "PLEASE BE CAREFUL!!!!\n",
    "\n",
    "Our function `my_avg` can ONLY work with lists that contain integers or floats. The function will NOT work if there is a CHARACTER/str data type!"
   ]
  },
  {
   "cell_type": "code",
   "execution_count": 47,
   "id": "9c10bfc3-4b87-4f52-a23a-f8bbbcbe4772",
   "metadata": {},
   "outputs": [
    {
     "ename": "TypeError",
     "evalue": "unsupported operand type(s) for +: 'int' and 'str'",
     "output_type": "error",
     "traceback": [
      "\u001b[0;31m---------------------------------------------------------------------------\u001b[0m",
      "\u001b[0;31mTypeError\u001b[0m                                 Traceback (most recent call last)",
      "Cell \u001b[0;32mIn[47], line 1\u001b[0m\n\u001b[0;32m----> 1\u001b[0m \u001b[43mmy_avg\u001b[49m\u001b[43m(\u001b[49m\u001b[43m[\u001b[49m\u001b[38;5;241;43m1\u001b[39;49m\u001b[43m,\u001b[49m\u001b[43m \u001b[49m\u001b[38;5;124;43m'\u001b[39;49m\u001b[38;5;124;43m2\u001b[39;49m\u001b[38;5;124;43m'\u001b[39;49m\u001b[43m,\u001b[49m\u001b[43m \u001b[49m\u001b[38;5;241;43m3\u001b[39;49m\u001b[43m]\u001b[49m\u001b[43m)\u001b[49m\n",
      "Cell \u001b[0;32mIn[38], line 11\u001b[0m, in \u001b[0;36mmy_avg\u001b[0;34m(x)\u001b[0m\n\u001b[1;32m      1\u001b[0m \u001b[38;5;28;01mdef\u001b[39;00m \u001b[38;5;21mmy_avg\u001b[39m(x):\n\u001b[1;32m      2\u001b[0m \u001b[38;5;250m    \u001b[39m\u001b[38;5;124;03m\"\"\"\u001b[39;00m\n\u001b[1;32m      3\u001b[0m \u001b[38;5;124;03m    This is a docstring. It serves as a MULTI LINE comment.\u001b[39;00m\n\u001b[1;32m      4\u001b[0m \n\u001b[0;32m   (...)\u001b[0m\n\u001b[1;32m      9\u001b[0m \u001b[38;5;124;03m    The function returns the AVERAGE of the list.\u001b[39;00m\n\u001b[1;32m     10\u001b[0m \u001b[38;5;124;03m    \"\"\"\u001b[39;00m\n\u001b[0;32m---> 11\u001b[0m     \u001b[38;5;28;01mreturn\u001b[39;00m \u001b[38;5;28;43msum\u001b[39;49m\u001b[43m(\u001b[49m\u001b[43mx\u001b[49m\u001b[43m)\u001b[49m \u001b[38;5;241m/\u001b[39m \u001b[38;5;28mlen\u001b[39m(x)\n",
      "\u001b[0;31mTypeError\u001b[0m: unsupported operand type(s) for +: 'int' and 'str'"
     ]
    }
   ],
   "source": [
    "my_avg([1, '2', 3])"
   ]
  },
  {
   "cell_type": "code",
   "execution_count": 48,
   "id": "ed5fe6b6-6e64-4e72-b62b-64c1e3f6c7f6",
   "metadata": {},
   "outputs": [
    {
     "ename": "TypeError",
     "evalue": "my_avg() takes 1 positional argument but 3 were given",
     "output_type": "error",
     "traceback": [
      "\u001b[0;31m---------------------------------------------------------------------------\u001b[0m",
      "\u001b[0;31mTypeError\u001b[0m                                 Traceback (most recent call last)",
      "Cell \u001b[0;32mIn[48], line 1\u001b[0m\n\u001b[0;32m----> 1\u001b[0m \u001b[43mmy_avg\u001b[49m\u001b[43m(\u001b[49m\u001b[43m[\u001b[49m\u001b[38;5;241;43m1\u001b[39;49m\u001b[43m]\u001b[49m\u001b[43m,\u001b[49m\u001b[43m \u001b[49m\u001b[43m[\u001b[49m\u001b[38;5;241;43m2\u001b[39;49m\u001b[43m]\u001b[49m\u001b[43m,\u001b[49m\u001b[43m \u001b[49m\u001b[43m[\u001b[49m\u001b[38;5;241;43m3\u001b[39;49m\u001b[43m]\u001b[49m\u001b[43m)\u001b[49m\n",
      "\u001b[0;31mTypeError\u001b[0m: my_avg() takes 1 positional argument but 3 were given"
     ]
    }
   ],
   "source": [
    "my_avg([1], [2], [3])"
   ]
  },
  {
   "cell_type": "code",
   "execution_count": 49,
   "id": "8582c888-20d3-4ddc-a59d-eac88ab1dcf9",
   "metadata": {},
   "outputs": [
    {
     "name": "stdout",
     "output_type": "stream",
     "text": [
      "Help on function my_avg in module __main__:\n",
      "\n",
      "my_avg(x)\n",
      "    This is a docstring. It serves as a MULTI LINE comment.\n",
      "    \n",
      "    Provide useful description and discussion of the INPUT arguments and OPERATION of the function.\n",
      "    \n",
      "    This function accepts x as an input argument. Let's assume x is a LIST of integers/floats.\n",
      "    \n",
      "    The function returns the AVERAGE of the list.\n",
      "\n"
     ]
    }
   ],
   "source": [
    "help(my_avg)"
   ]
  },
  {
   "cell_type": "markdown",
   "id": "8ed89aa6-42a9-4b32-9377-57ffce3dc0a6",
   "metadata": {},
   "source": [
    "## Applying our function\n",
    "\n",
    "We learned how to GENERATE lists of RANDOM numbers!!!!!\n",
    "\n",
    "Let's make a list of random numbers now... and use our function to calculate the AVERAGE of those random numbers!!!!!"
   ]
  },
  {
   "cell_type": "code",
   "execution_count": 51,
   "id": "b1a763e5-bd33-4142-add0-e8cb40f36fb1",
   "metadata": {},
   "outputs": [],
   "source": [
    "random.seed(2100)\n",
    "\n",
    "xu = [random.random() for _ in range(11)]"
   ]
  },
  {
   "cell_type": "code",
   "execution_count": 52,
   "id": "561c101e-8f95-43aa-bada-64d0eba4ba82",
   "metadata": {},
   "outputs": [
    {
     "data": {
      "text/plain": [
       "11"
      ]
     },
     "execution_count": 52,
     "metadata": {},
     "output_type": "execute_result"
    }
   ],
   "source": [
    "len(xu)"
   ]
  },
  {
   "cell_type": "code",
   "execution_count": 53,
   "id": "c2f939cb-ced7-4223-a8e4-1e4954f3eee9",
   "metadata": {},
   "outputs": [
    {
     "name": "stdout",
     "output_type": "stream",
     "text": [
      "Variable   Type        Data/Info\n",
      "--------------------------------\n",
      "a_sum      int         6\n",
      "a_value    int         3\n",
      "my_avg     function    <function my_avg at 0x7f89f3b03550>\n",
      "random     module      <module 'random' from '/U<...>lib/python3.8/random.py'>\n",
      "x          list        n=3\n",
      "x_a        list        n=8\n",
      "x_b        list        n=9\n",
      "xu         list        n=11\n"
     ]
    }
   ],
   "source": [
    "%whos"
   ]
  },
  {
   "cell_type": "code",
   "execution_count": 54,
   "id": "77414df1-b407-4b85-9a4e-d95757162e5c",
   "metadata": {},
   "outputs": [
    {
     "data": {
      "text/plain": [
       "[0.764021138054951,\n",
       " 0.4692037101382426,\n",
       " 0.09010549233469012,\n",
       " 0.08980190601697957,\n",
       " 0.5561956463771123,\n",
       " 0.41097303757112746,\n",
       " 0.6979324821652212,\n",
       " 0.9157019989699348,\n",
       " 0.06734286989910154,\n",
       " 0.7015550970478079,\n",
       " 0.11078753610950587]"
      ]
     },
     "execution_count": 54,
     "metadata": {},
     "output_type": "execute_result"
    }
   ],
   "source": [
    "xu"
   ]
  },
  {
   "cell_type": "markdown",
   "id": "be107023-ad45-49a6-bc79-9ac04c83b73e",
   "metadata": {},
   "source": [
    "What is the AVERAGE or **MEAN** of the 11 values????"
   ]
  },
  {
   "cell_type": "code",
   "execution_count": 55,
   "id": "b7981bfe-6359-42db-a0df-5dc6e5e24286",
   "metadata": {},
   "outputs": [
    {
     "data": {
      "text/plain": [
       "0.4430564467895158"
      ]
     },
     "execution_count": 55,
     "metadata": {},
     "output_type": "execute_result"
    }
   ],
   "source": [
    "my_avg(xu)"
   ]
  },
  {
   "cell_type": "code",
   "execution_count": 56,
   "id": "7c6e2e2e-be93-4be6-bf0e-6d6848f0199c",
   "metadata": {},
   "outputs": [
    {
     "data": {
      "text/plain": [
       "0.5130247005855082"
      ]
     },
     "execution_count": 56,
     "metadata": {},
     "output_type": "execute_result"
    }
   ],
   "source": [
    "my_avg([random.random() for _ in range(1000)])"
   ]
  },
  {
   "cell_type": "markdown",
   "id": "e8cd8663-e679-4db8-9888-715512f46ac4",
   "metadata": {},
   "source": [
    "What happens if we generate 11 random values... 3 DIFFERENT times.....\n",
    "\n",
    "This can happen if we collect observations on different days... different months... or across different locations.\n",
    "\n",
    "For example, maybe we are collecting or MEASURING the heights of students in a class room."
   ]
  },
  {
   "cell_type": "code",
   "execution_count": 63,
   "id": "628dbd56-fbf6-4574-9852-835cdccdaa9c",
   "metadata": {},
   "outputs": [],
   "source": [
    "random.seed(2100)\n",
    "\n",
    "yu = [random.random() for _ in range(11)]\n",
    "\n",
    "zu = [random.random() for _ in range(11)]\n",
    "\n",
    "qu = [random.random() for _ in range(11)]"
   ]
  },
  {
   "cell_type": "code",
   "execution_count": 64,
   "id": "06e68b4b-6d17-4ca9-9b02-1b17f8aa2705",
   "metadata": {},
   "outputs": [
    {
     "name": "stdout",
     "output_type": "stream",
     "text": [
      "Variable   Type        Data/Info\n",
      "--------------------------------\n",
      "a_sum      int         6\n",
      "a_value    int         3\n",
      "my_avg     function    <function my_avg at 0x7f89f3b03550>\n",
      "qu         list        n=11\n",
      "random     module      <module 'random' from '/U<...>lib/python3.8/random.py'>\n",
      "x          list        n=3\n",
      "x_a        list        n=8\n",
      "x_b        list        n=9\n",
      "xu         list        n=11\n",
      "yu         list        n=11\n",
      "zu         list        n=11\n"
     ]
    }
   ],
   "source": [
    "%whos"
   ]
  },
  {
   "cell_type": "code",
   "execution_count": 67,
   "id": "3985b2f5-4f2a-423e-97c1-8c3772e0b782",
   "metadata": {},
   "outputs": [
    {
     "data": {
      "text/plain": [
       "[0.764021138054951,\n",
       " 0.4692037101382426,\n",
       " 0.09010549233469012,\n",
       " 0.08980190601697957,\n",
       " 0.5561956463771123,\n",
       " 0.41097303757112746,\n",
       " 0.6979324821652212,\n",
       " 0.9157019989699348,\n",
       " 0.06734286989910154,\n",
       " 0.7015550970478079,\n",
       " 0.11078753610950587]"
      ]
     },
     "execution_count": 67,
     "metadata": {},
     "output_type": "execute_result"
    }
   ],
   "source": [
    "yu"
   ]
  },
  {
   "cell_type": "code",
   "execution_count": 68,
   "id": "b781e152-1b67-4bc6-8845-7080782b4867",
   "metadata": {},
   "outputs": [
    {
     "data": {
      "text/plain": [
       "[0.9379189789375049,\n",
       " 0.2987506098933619,\n",
       " 0.7342115932077558,\n",
       " 0.8939978976343719,\n",
       " 0.36690797563632527,\n",
       " 0.7840449290430325,\n",
       " 0.37956664277465757,\n",
       " 0.6333253705111195,\n",
       " 0.3605664070992006,\n",
       " 0.7231215087463677,\n",
       " 0.07281302170746007]"
      ]
     },
     "execution_count": 68,
     "metadata": {},
     "output_type": "execute_result"
    }
   ],
   "source": [
    "zu"
   ]
  },
  {
   "cell_type": "code",
   "execution_count": 69,
   "id": "a8e40704-3f7b-4fd6-bdc4-2971763cf83c",
   "metadata": {},
   "outputs": [
    {
     "data": {
      "text/plain": [
       "[0.6669762270729921,\n",
       " 0.4942428713031397,\n",
       " 0.7956962831040792,\n",
       " 0.552986632512965,\n",
       " 0.4893355644568754,\n",
       " 0.4753411061753585,\n",
       " 0.956484014417971,\n",
       " 0.5808057706555326,\n",
       " 0.6972309683740164,\n",
       " 0.6530137967372368,\n",
       " 0.4843336405398452]"
      ]
     },
     "execution_count": 69,
     "metadata": {},
     "output_type": "execute_result"
    }
   ],
   "source": [
    "qu"
   ]
  },
  {
   "cell_type": "code",
   "execution_count": 70,
   "id": "74dd12c3-37dd-4457-93f4-5e3348fd18fc",
   "metadata": {},
   "outputs": [
    {
     "data": {
      "text/plain": [
       "False"
      ]
     },
     "execution_count": 70,
     "metadata": {},
     "output_type": "execute_result"
    }
   ],
   "source": [
    "yu==zu"
   ]
  },
  {
   "cell_type": "code",
   "execution_count": 71,
   "id": "fd9745a6-aab3-4185-be18-79ce5fe013c8",
   "metadata": {},
   "outputs": [
    {
     "data": {
      "text/plain": [
       "False"
      ]
     },
     "execution_count": 71,
     "metadata": {},
     "output_type": "execute_result"
    }
   ],
   "source": [
    "yu==qu"
   ]
  },
  {
   "cell_type": "code",
   "execution_count": 72,
   "id": "4c168c99-2633-47f7-9114-5cfd469bd8e7",
   "metadata": {},
   "outputs": [
    {
     "data": {
      "text/plain": [
       "False"
      ]
     },
     "execution_count": 72,
     "metadata": {},
     "output_type": "execute_result"
    }
   ],
   "source": [
    "zu==qu"
   ]
  },
  {
   "cell_type": "markdown",
   "id": "f4ed7686-a4c4-4809-bd0e-a23d2c296254",
   "metadata": {},
   "source": [
    "The three collections have different values.. so what about their averages???"
   ]
  },
  {
   "cell_type": "code",
   "execution_count": 73,
   "id": "145d8593-b625-42b0-a94d-99eb374be5ab",
   "metadata": {},
   "outputs": [
    {
     "data": {
      "text/plain": [
       "0.4430564467895158"
      ]
     },
     "execution_count": 73,
     "metadata": {},
     "output_type": "execute_result"
    }
   ],
   "source": [
    "my_avg(yu)"
   ]
  },
  {
   "cell_type": "code",
   "execution_count": 74,
   "id": "8f349ac0-2967-4273-a42d-cf8d1c8f9c03",
   "metadata": {},
   "outputs": [
    {
     "data": {
      "text/plain": [
       "0.5622931759264689"
      ]
     },
     "execution_count": 74,
     "metadata": {},
     "output_type": "execute_result"
    }
   ],
   "source": [
    "my_avg(zu)"
   ]
  },
  {
   "cell_type": "code",
   "execution_count": 75,
   "id": "8dd72715-cf2b-4604-aed0-e9c23a5656ca",
   "metadata": {},
   "outputs": [
    {
     "data": {
      "text/plain": [
       "0.6224042613954558"
      ]
     },
     "execution_count": 75,
     "metadata": {},
     "output_type": "execute_result"
    }
   ],
   "source": [
    "my_avg(qu)"
   ]
  },
  {
   "cell_type": "markdown",
   "id": "e5c2d30b-bee7-48d5-8f63-5509be481ca1",
   "metadata": {},
   "source": [
    "Which of the above is CORRECT?!?!?!?!"
   ]
  },
  {
   "cell_type": "code",
   "execution_count": null,
   "id": "a15fb096-e9eb-4610-b1c0-908dca708f7c",
   "metadata": {},
   "outputs": [],
   "source": []
  }
 ],
 "metadata": {
  "kernelspec": {
   "display_name": "Python 3 (ipykernel)",
   "language": "python",
   "name": "python3"
  },
  "language_info": {
   "codemirror_mode": {
    "name": "ipython",
    "version": 3
   },
   "file_extension": ".py",
   "mimetype": "text/x-python",
   "name": "python",
   "nbconvert_exporter": "python",
   "pygments_lexer": "ipython3",
   "version": "3.8.18"
  }
 },
 "nbformat": 4,
 "nbformat_minor": 5
}
