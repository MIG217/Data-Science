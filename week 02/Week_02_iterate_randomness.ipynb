{
 "cells": [
  {
   "cell_type": "markdown",
   "id": "68d8b026-ef32-451e-a18b-073a4873a5a4",
   "metadata": {},
   "source": [
    "## CMPINF 2100 Week 02\n",
    "\n",
    "### Calling multiple random numbers\n",
    "\n",
    "## Overview\n",
    "\n",
    "We know how to call or GENERATE random numbers using `random.random()`. We know how to organize values inside LISTS. We know how to ITERATE using for-loops and list comprehensions.\n",
    "\n",
    "Let's now bring together ALL of these aspects!!!!!\n",
    "\n",
    "We will generate MULTIPLE random numbers OR we weill generate SEQUENCES of random numbers.\n",
    "\n",
    "## Import modules\n",
    "\n",
    "We need the `random` module for this example.\n"
   ]
  },
  {
   "cell_type": "code",
   "execution_count": 2,
   "id": "b2475ce2-008a-46fc-a8ff-a948b7b7b0b2",
   "metadata": {},
   "outputs": [],
   "source": [
    "import random"
   ]
  },
  {
   "cell_type": "markdown",
   "id": "aba71b08-8f5b-4c2e-9cf7-08a7a7b73099",
   "metadata": {},
   "source": [
    "## Call multiple random values\n",
    "\n",
    "We know that we can MANUALLY call `random.random()` many times!"
   ]
  },
  {
   "cell_type": "code",
   "execution_count": 3,
   "id": "61afa728-f193-4eaa-a121-9e164ca6a1d8",
   "metadata": {},
   "outputs": [
    {
     "name": "stdout",
     "output_type": "stream",
     "text": [
      "0.764021138054951\n",
      "0.4692037101382426\n",
      "0.09010549233469012\n"
     ]
    }
   ],
   "source": [
    "random.seed(2100)\n",
    "\n",
    "print (random.random())\n",
    "\n",
    "print (random.random())\n",
    "\n",
    "print (random.random())"
   ]
  },
  {
   "cell_type": "markdown",
   "id": "cde40f25-72b4-4d96-96b6-6babf083ffe7",
   "metadata": {},
   "source": [
    "We can store random values as ENTRIES or FIELDS within lists!"
   ]
  },
  {
   "cell_type": "code",
   "execution_count": 4,
   "id": "7fc4aec9-cf83-49e9-b0ad-59cc98404bf9",
   "metadata": {},
   "outputs": [],
   "source": [
    "random.seed(2100)\n",
    "x_a = [random.random(), random.random(), random.random()]"
   ]
  },
  {
   "cell_type": "code",
   "execution_count": 5,
   "id": "c1b6850a-8c8c-4022-89d4-dbac521a9b46",
   "metadata": {},
   "outputs": [
    {
     "name": "stdout",
     "output_type": "stream",
     "text": [
      "Variable   Type      Data/Info\n",
      "------------------------------\n",
      "random     module    <module 'random' from '/U<...>lib/python3.8/random.py'>\n",
      "x_a        list      n=3\n"
     ]
    }
   ],
   "source": [
    "%whos"
   ]
  },
  {
   "cell_type": "code",
   "execution_count": 6,
   "id": "c91a046a-8aef-4253-8ed0-ee350a32e66c",
   "metadata": {},
   "outputs": [
    {
     "data": {
      "text/plain": [
       "3"
      ]
     },
     "execution_count": 6,
     "metadata": {},
     "output_type": "execute_result"
    }
   ],
   "source": [
    "len(x_a)"
   ]
  },
  {
   "cell_type": "code",
   "execution_count": 7,
   "id": "353f68c5-fc67-434e-9a3e-cfe4af9df84d",
   "metadata": {},
   "outputs": [
    {
     "data": {
      "text/plain": [
       "[0.764021138054951, 0.4692037101382426, 0.09010549233469012]"
      ]
     },
     "execution_count": 7,
     "metadata": {},
     "output_type": "execute_result"
    }
   ],
   "source": [
    "x_a"
   ]
  },
  {
   "cell_type": "markdown",
   "id": "8a10e817-af75-42ae-adc4-f5696c23895e",
   "metadata": {},
   "source": [
    "Generating 1000 random numbers would mean we need to manually type `random.random()` 1000 times!!!!!"
   ]
  },
  {
   "cell_type": "code",
   "execution_count": 8,
   "id": "1fe48bc4-d967-42eb-85fa-d9e418f3de6b",
   "metadata": {},
   "outputs": [
    {
     "name": "stdout",
     "output_type": "stream",
     "text": [
      "0.764021138054951\n",
      "0.4692037101382426\n",
      "0.09010549233469012\n"
     ]
    }
   ],
   "source": [
    "random.seed(2100)\n",
    "\n",
    "for n in range (3):\n",
    "    print (random.random())"
   ]
  },
  {
   "cell_type": "code",
   "execution_count": 9,
   "id": "62bdcbe9-4aa6-4e63-8ee4-09bb05c3d6e4",
   "metadata": {},
   "outputs": [
    {
     "name": "stdout",
     "output_type": "stream",
     "text": [
      "0.764021138054951\n",
      "0.4692037101382426\n",
      "0.09010549233469012\n",
      "0.08980190601697957\n",
      "0.5561956463771123\n",
      "0.41097303757112746\n",
      "0.6979324821652212\n",
      "0.9157019989699348\n",
      "0.06734286989910154\n",
      "0.7015550970478079\n",
      "0.11078753610950587\n",
      "0.9379189789375049\n",
      "0.2987506098933619\n",
      "0.7342115932077558\n",
      "0.8939978976343719\n"
     ]
    }
   ],
   "source": [
    "random.seed(2100)\n",
    "\n",
    "for n in range (15):\n",
    "    print (random.random())"
   ]
  },
  {
   "cell_type": "markdown",
   "id": "984d1951-f4b5-4309-8da6-193ce07ada19",
   "metadata": {},
   "source": [
    "But the above example does NOT sure or store the random numbers!!!\n",
    "\n",
    "How can we store the results into a LIST?!?!?!\n",
    "\n",
    "We need to INITIALIZE the list! Or we need to create a list to assign values to!"
   ]
  },
  {
   "cell_type": "code",
   "execution_count": 11,
   "id": "652b825c-182c-4289-ae9a-e2dbf825b6fd",
   "metadata": {},
   "outputs": [],
   "source": [
    "xu=[]"
   ]
  },
  {
   "cell_type": "code",
   "execution_count": 12,
   "id": "c3107941-e9a1-4dc8-8af7-5b3b6ad865ea",
   "metadata": {},
   "outputs": [
    {
     "name": "stdout",
     "output_type": "stream",
     "text": [
      "[]\n"
     ]
    }
   ],
   "source": [
    "print(xu)"
   ]
  },
  {
   "cell_type": "code",
   "execution_count": 13,
   "id": "aa4a3e44-1440-4d56-8c51-e29eebb1c248",
   "metadata": {},
   "outputs": [
    {
     "data": {
      "text/plain": [
       "0"
      ]
     },
     "execution_count": 13,
     "metadata": {},
     "output_type": "execute_result"
    }
   ],
   "source": [
    "len(xu)"
   ]
  },
  {
   "cell_type": "code",
   "execution_count": 14,
   "id": "caa18627-68d2-4702-ad4e-0cd34370b904",
   "metadata": {},
   "outputs": [
    {
     "name": "stdout",
     "output_type": "stream",
     "text": [
      "Variable   Type      Data/Info\n",
      "------------------------------\n",
      "XU         list      n=0\n",
      "n          int       14\n",
      "random     module    <module 'random' from '/U<...>lib/python3.8/random.py'>\n",
      "x_a        list      n=3\n",
      "xu         list      n=0\n"
     ]
    }
   ],
   "source": [
    "%whos"
   ]
  },
  {
   "cell_type": "code",
   "execution_count": 15,
   "id": "4f2efe00-c8d0-454e-a7b8-22291138e601",
   "metadata": {},
   "outputs": [
    {
     "data": {
      "text/plain": [
       "['__add__',\n",
       " '__class__',\n",
       " '__contains__',\n",
       " '__delattr__',\n",
       " '__delitem__',\n",
       " '__dir__',\n",
       " '__doc__',\n",
       " '__eq__',\n",
       " '__format__',\n",
       " '__ge__',\n",
       " '__getattribute__',\n",
       " '__getitem__',\n",
       " '__gt__',\n",
       " '__hash__',\n",
       " '__iadd__',\n",
       " '__imul__',\n",
       " '__init__',\n",
       " '__init_subclass__',\n",
       " '__iter__',\n",
       " '__le__',\n",
       " '__len__',\n",
       " '__lt__',\n",
       " '__mul__',\n",
       " '__ne__',\n",
       " '__new__',\n",
       " '__reduce__',\n",
       " '__reduce_ex__',\n",
       " '__repr__',\n",
       " '__reversed__',\n",
       " '__rmul__',\n",
       " '__setattr__',\n",
       " '__setitem__',\n",
       " '__sizeof__',\n",
       " '__str__',\n",
       " '__subclasshook__',\n",
       " 'append',\n",
       " 'clear',\n",
       " 'copy',\n",
       " 'count',\n",
       " 'extend',\n",
       " 'index',\n",
       " 'insert',\n",
       " 'pop',\n",
       " 'remove',\n",
       " 'reverse',\n",
       " 'sort']"
      ]
     },
     "execution_count": 15,
     "metadata": {},
     "output_type": "execute_result"
    }
   ],
   "source": [
    "dir(xu)"
   ]
  },
  {
   "cell_type": "markdown",
   "id": "87b6d0d5-167c-439f-88d2-6f948aa539dd",
   "metadata": {},
   "source": [
    "Let's use the `.append()` method associated with the `xu` LIST to ADD new elements to the list!"
   ]
  },
  {
   "cell_type": "code",
   "execution_count": 16,
   "id": "21f5632b-04bd-4368-971c-91808f2905d4",
   "metadata": {},
   "outputs": [],
   "source": [
    "random.seed(2100)\n",
    "\n",
    "for n in range(3):\n",
    "    xu.append(random.random())"
   ]
  },
  {
   "cell_type": "code",
   "execution_count": 17,
   "id": "d6061662-c1ff-4e12-bf59-a16e0544406a",
   "metadata": {},
   "outputs": [
    {
     "data": {
      "text/plain": [
       "[0.764021138054951, 0.4692037101382426, 0.09010549233469012]"
      ]
     },
     "execution_count": 17,
     "metadata": {},
     "output_type": "execute_result"
    }
   ],
   "source": [
    "xu"
   ]
  },
  {
   "cell_type": "markdown",
   "id": "b53def7c-4d35-4438-859a-b9e179d4748f",
   "metadata": {},
   "source": [
    "Let's repeat these steps MANUALLY just to show what happened at each iteration of the for-loop!!!!!"
   ]
  },
  {
   "cell_type": "code",
   "execution_count": 18,
   "id": "c03dccfd-1adc-44f8-a980-596abd575583",
   "metadata": {},
   "outputs": [
    {
     "name": "stdout",
     "output_type": "stream",
     "text": [
      "[]\n"
     ]
    }
   ],
   "source": [
    "xu_b=[]\n",
    "\n",
    "print (xu_b)"
   ]
  },
  {
   "cell_type": "code",
   "execution_count": 19,
   "id": "5924a4fd-cb1f-4d82-9962-698effbcc2f9",
   "metadata": {},
   "outputs": [
    {
     "data": {
      "text/plain": [
       "0"
      ]
     },
     "execution_count": 19,
     "metadata": {},
     "output_type": "execute_result"
    }
   ],
   "source": [
    "len(xu_b)"
   ]
  },
  {
   "cell_type": "code",
   "execution_count": 20,
   "id": "08c4c281-5d93-4100-b9df-57f8e01282a8",
   "metadata": {},
   "outputs": [],
   "source": [
    "random.seed(2100)\n",
    "\n",
    "xu_b.append(random.random())"
   ]
  },
  {
   "cell_type": "code",
   "execution_count": 21,
   "id": "88497ae5-2bf4-47c7-822c-e92b65dbe240",
   "metadata": {},
   "outputs": [
    {
     "data": {
      "text/plain": [
       "1"
      ]
     },
     "execution_count": 21,
     "metadata": {},
     "output_type": "execute_result"
    }
   ],
   "source": [
    "len(xu_b)"
   ]
  },
  {
   "cell_type": "code",
   "execution_count": 22,
   "id": "d56b1ed0-c828-4bcc-958e-ac254004a182",
   "metadata": {},
   "outputs": [],
   "source": [
    "xu_b.append(random.random())"
   ]
  },
  {
   "cell_type": "code",
   "execution_count": 23,
   "id": "bc99221c-b081-4568-b979-358bdc378d4c",
   "metadata": {},
   "outputs": [
    {
     "data": {
      "text/plain": [
       "2"
      ]
     },
     "execution_count": 23,
     "metadata": {},
     "output_type": "execute_result"
    }
   ],
   "source": [
    "len(xu_b)"
   ]
  },
  {
   "cell_type": "code",
   "execution_count": 24,
   "id": "274d1f6f-2191-4ca0-a71a-809e146ad2e8",
   "metadata": {},
   "outputs": [],
   "source": [
    "xu_b.append(random.random())"
   ]
  },
  {
   "cell_type": "code",
   "execution_count": 25,
   "id": "634a2c7f-0af0-493e-97fc-8456e5c57274",
   "metadata": {},
   "outputs": [
    {
     "data": {
      "text/plain": [
       "3"
      ]
     },
     "execution_count": 25,
     "metadata": {},
     "output_type": "execute_result"
    }
   ],
   "source": [
    "len(xu_b)"
   ]
  },
  {
   "cell_type": "markdown",
   "id": "9c0ae1ac-7e00-4817-8403-f45ffafbc7ae",
   "metadata": {},
   "source": [
    "Let's now iterate 11 times!!!"
   ]
  },
  {
   "cell_type": "code",
   "execution_count": 26,
   "id": "d8436370-1af5-4cd3-ab4e-4b27846a87e8",
   "metadata": {},
   "outputs": [],
   "source": [
    "xu_c=[]"
   ]
  },
  {
   "cell_type": "code",
   "execution_count": 27,
   "id": "36b5ad07-37fa-44d3-82d4-fca43c4f933b",
   "metadata": {},
   "outputs": [],
   "source": [
    "random.seed(2100)\n",
    "\n",
    "for n in range (11):\n",
    "    xu_c.append(random.random())"
   ]
  },
  {
   "cell_type": "code",
   "execution_count": 28,
   "id": "a13f9669-43b6-4e01-96bc-db09f904da2a",
   "metadata": {},
   "outputs": [
    {
     "data": {
      "text/plain": [
       "list"
      ]
     },
     "execution_count": 28,
     "metadata": {},
     "output_type": "execute_result"
    }
   ],
   "source": [
    "type(xu_c)"
   ]
  },
  {
   "cell_type": "code",
   "execution_count": 29,
   "id": "c41623b4-cf60-4018-8b17-3df31c364f1f",
   "metadata": {},
   "outputs": [
    {
     "data": {
      "text/plain": [
       "11"
      ]
     },
     "execution_count": 29,
     "metadata": {},
     "output_type": "execute_result"
    }
   ],
   "source": [
    "len(xu_c)"
   ]
  },
  {
   "cell_type": "code",
   "execution_count": 30,
   "id": "c8e4e9b5-4624-440a-ac1e-6d9ae3d00d06",
   "metadata": {},
   "outputs": [
    {
     "data": {
      "text/plain": [
       "[0.764021138054951,\n",
       " 0.4692037101382426,\n",
       " 0.09010549233469012,\n",
       " 0.08980190601697957,\n",
       " 0.5561956463771123,\n",
       " 0.41097303757112746,\n",
       " 0.6979324821652212,\n",
       " 0.9157019989699348,\n",
       " 0.06734286989910154,\n",
       " 0.7015550970478079,\n",
       " 0.11078753610950587]"
      ]
     },
     "execution_count": 30,
     "metadata": {},
     "output_type": "execute_result"
    }
   ],
   "source": [
    "xu_c"
   ]
  },
  {
   "cell_type": "code",
   "execution_count": 31,
   "id": "d7de00af-bd86-447c-bf44-0b67304e37bf",
   "metadata": {},
   "outputs": [
    {
     "name": "stdout",
     "output_type": "stream",
     "text": [
      "Before appending, the list has length: 0\n",
      "After appending, the list has length: 1\n",
      "-- $$ --\n",
      "Before appending, the list has length: 1\n",
      "After appending, the list has length: 2\n",
      "-- $$ --\n",
      "Before appending, the list has length: 2\n",
      "After appending, the list has length: 3\n",
      "-- $$ --\n",
      "Before appending, the list has length: 3\n",
      "After appending, the list has length: 4\n",
      "-- $$ --\n",
      "Before appending, the list has length: 4\n",
      "After appending, the list has length: 5\n",
      "-- $$ --\n",
      "Before appending, the list has length: 5\n",
      "After appending, the list has length: 6\n",
      "-- $$ --\n",
      "Before appending, the list has length: 6\n",
      "After appending, the list has length: 7\n",
      "-- $$ --\n",
      "Before appending, the list has length: 7\n",
      "After appending, the list has length: 8\n",
      "-- $$ --\n",
      "Before appending, the list has length: 8\n",
      "After appending, the list has length: 9\n",
      "-- $$ --\n",
      "Before appending, the list has length: 9\n",
      "After appending, the list has length: 10\n",
      "-- $$ --\n",
      "Before appending, the list has length: 10\n",
      "After appending, the list has length: 11\n",
      "-- $$ --\n"
     ]
    }
   ],
   "source": [
    "xu_d=[]\n",
    "\n",
    "random.seed(2100)\n",
    "\n",
    "for n in range (11):\n",
    "    print (\"Before appending, the list has length: %d\" %(len(xu_d)))\n",
    "    xu_d.append(random.random())\n",
    "    print (\"After appending, the list has length: %d\" % (len(xu_d)))\n",
    "    print (\"-- $$ --\")"
   ]
  },
  {
   "cell_type": "markdown",
   "id": "d5202599-a296-4a6f-a16b-05ea20d1671b",
   "metadata": {},
   "source": [
    "The for-loop streamlined calling or GENERATING many random numbers!!!\n",
    "\n",
    "But the for-loop has one major downside!!!!!\n",
    "\n",
    "What if we forget to initialize the list before running the for-loop!?!!"
   ]
  },
  {
   "cell_type": "code",
   "execution_count": 33,
   "id": "33b59591-667e-4e1e-8514-5762f5c1d9a3",
   "metadata": {},
   "outputs": [
    {
     "name": "stdout",
     "output_type": "stream",
     "text": [
      "Variable   Type      Data/Info\n",
      "------------------------------\n",
      "XU         list      n=0\n",
      "n          int       10\n",
      "random     module    <module 'random' from '/U<...>lib/python3.8/random.py'>\n",
      "x_a        list      n=3\n",
      "xu         list      n=3\n",
      "xu_b       list      n=3\n",
      "xu_c       list      n=11\n",
      "xu_d       list      n=11\n"
     ]
    }
   ],
   "source": [
    "%whos"
   ]
  },
  {
   "cell_type": "code",
   "execution_count": 34,
   "id": "0579023d-6843-43b1-bac3-50c7fc9eaf29",
   "metadata": {},
   "outputs": [
    {
     "ename": "NameError",
     "evalue": "name 'y' is not defined",
     "output_type": "error",
     "traceback": [
      "\u001b[0;31m---------------------------------------------------------------------------\u001b[0m",
      "\u001b[0;31mNameError\u001b[0m                                 Traceback (most recent call last)",
      "Cell \u001b[0;32mIn[34], line 4\u001b[0m\n\u001b[1;32m      1\u001b[0m random\u001b[38;5;241m.\u001b[39mseed(\u001b[38;5;241m2100\u001b[39m)\n\u001b[1;32m      3\u001b[0m \u001b[38;5;28;01mfor\u001b[39;00m n \u001b[38;5;129;01min\u001b[39;00m \u001b[38;5;28mrange\u001b[39m(\u001b[38;5;241m11\u001b[39m):\n\u001b[0;32m----> 4\u001b[0m     \u001b[43my\u001b[49m\u001b[38;5;241m.\u001b[39mappend(random\u001b[38;5;241m.\u001b[39mrandom())\n",
      "\u001b[0;31mNameError\u001b[0m: name 'y' is not defined"
     ]
    }
   ],
   "source": [
    "random.seed(2100)\n",
    "\n",
    "for n in range(11):\n",
    "    y.append(random.random())"
   ]
  },
  {
   "cell_type": "code",
   "execution_count": 35,
   "id": "326214c5-66e2-4237-b3e1-0f815a13aa0c",
   "metadata": {},
   "outputs": [
    {
     "name": "stdout",
     "output_type": "stream",
     "text": [
      "Variable   Type      Data/Info\n",
      "------------------------------\n",
      "XU         list      n=0\n",
      "n          int       0\n",
      "random     module    <module 'random' from '/U<...>lib/python3.8/random.py'>\n",
      "x_a        list      n=3\n",
      "xu         list      n=3\n",
      "xu_b       list      n=3\n",
      "xu_c       list      n=11\n",
      "xu_d       list      n=11\n"
     ]
    }
   ],
   "source": [
    "%whos"
   ]
  },
  {
   "cell_type": "markdown",
   "id": "9b025eed-f63f-472d-89b0-bca02e1c7fd5",
   "metadata": {},
   "source": [
    "## List comprehension\n",
    "\n",
    "The list comprehension is a streamlined way of managing iterating.\n",
    "\n",
    "List comprenhensions require that we completely understand the 3 basic elements of iteration:\n",
    "\n",
    "* the action to repeat\n",
    "* the iterating variable that changes\n",
    "* the sequences to iterate over\n",
    "\n",
    "In code, the syntax is:\n",
    "\n",
    "` <output list > = [<action> for <variable> in <sequence>]`\n",
    "\n",
    "What is the ACTION we are repeating??? We are calling `random.random()` many times!\n",
    "\n",
    "What is the iterating variable? We were calling in `n` but it doesn't really do anything here...\n",
    "\n",
    "What is our sequence to iterate over? The sequence is gengerated by `range()`!!!"
   ]
  },
  {
   "cell_type": "code",
   "execution_count": 36,
   "id": "fcd2171c-fefc-41ba-aa9c-f23535da6b70",
   "metadata": {},
   "outputs": [],
   "source": [
    "random.seed(2100)\n",
    "\n",
    "y=[ random.random() for n in range (11)]"
   ]
  },
  {
   "cell_type": "code",
   "execution_count": 37,
   "id": "29af1071-f3c3-424f-b920-c23e2a35c5c0",
   "metadata": {},
   "outputs": [
    {
     "data": {
      "text/plain": [
       "list"
      ]
     },
     "execution_count": 37,
     "metadata": {},
     "output_type": "execute_result"
    }
   ],
   "source": [
    "type(y)"
   ]
  },
  {
   "cell_type": "code",
   "execution_count": 38,
   "id": "b60f4cff-df16-45b8-97e1-269926fa79a6",
   "metadata": {},
   "outputs": [
    {
     "data": {
      "text/plain": [
       "11"
      ]
     },
     "execution_count": 38,
     "metadata": {},
     "output_type": "execute_result"
    }
   ],
   "source": [
    "len(y)"
   ]
  },
  {
   "cell_type": "code",
   "execution_count": 39,
   "id": "b572290c-38be-42d8-8dfd-b86b05244429",
   "metadata": {},
   "outputs": [
    {
     "data": {
      "text/plain": [
       "[0.764021138054951,\n",
       " 0.4692037101382426,\n",
       " 0.09010549233469012,\n",
       " 0.08980190601697957,\n",
       " 0.5561956463771123,\n",
       " 0.41097303757112746,\n",
       " 0.6979324821652212,\n",
       " 0.9157019989699348,\n",
       " 0.06734286989910154,\n",
       " 0.7015550970478079,\n",
       " 0.11078753610950587]"
      ]
     },
     "execution_count": 39,
     "metadata": {},
     "output_type": "execute_result"
    }
   ],
   "source": [
    "y"
   ]
  },
  {
   "cell_type": "code",
   "execution_count": 40,
   "id": "9001888b-153d-4730-888b-d94e5ceb889c",
   "metadata": {},
   "outputs": [
    {
     "data": {
      "text/plain": [
       "True"
      ]
     },
     "execution_count": 40,
     "metadata": {},
     "output_type": "execute_result"
    }
   ],
   "source": [
    "y == xu_c"
   ]
  },
  {
   "cell_type": "markdown",
   "id": "09941061-3198-4f80-b1f7-1447ef55afdf",
   "metadata": {},
   "source": [
    "The iterating variable is not really important in our current application. More often then not, the iterating variable IS important. But when it is not needed, a common practices is to use the UNDERSCORE, `_`, as the iterating variable."
   ]
  },
  {
   "cell_type": "code",
   "execution_count": 41,
   "id": "ad17e7e5-79ef-4c3b-97ce-80f67e6fe448",
   "metadata": {},
   "outputs": [],
   "source": [
    "random.seed(2100)\n",
    "\n",
    "y2=[random.random() for _ in range(11)]"
   ]
  },
  {
   "cell_type": "code",
   "execution_count": 42,
   "id": "562c66db-8205-4f8d-84be-1531639080e1",
   "metadata": {},
   "outputs": [
    {
     "data": {
      "text/plain": [
       "[0.764021138054951,\n",
       " 0.4692037101382426,\n",
       " 0.09010549233469012,\n",
       " 0.08980190601697957,\n",
       " 0.5561956463771123,\n",
       " 0.41097303757112746,\n",
       " 0.6979324821652212,\n",
       " 0.9157019989699348,\n",
       " 0.06734286989910154,\n",
       " 0.7015550970478079,\n",
       " 0.11078753610950587]"
      ]
     },
     "execution_count": 42,
     "metadata": {},
     "output_type": "execute_result"
    }
   ],
   "source": [
    "y2"
   ]
  },
  {
   "cell_type": "code",
   "execution_count": 43,
   "id": "b7c8c4ef-7a64-4e56-8d75-e1bd75280ca4",
   "metadata": {},
   "outputs": [
    {
     "name": "stdout",
     "output_type": "stream",
     "text": [
      "Variable   Type      Data/Info\n",
      "------------------------------\n",
      "XU         list      n=0\n",
      "n          int       0\n",
      "random     module    <module 'random' from '/U<...>lib/python3.8/random.py'>\n",
      "x_a        list      n=3\n",
      "xu         list      n=3\n",
      "xu_b       list      n=3\n",
      "xu_c       list      n=11\n",
      "xu_d       list      n=11\n",
      "y          list      n=11\n",
      "y2         list      n=11\n"
     ]
    }
   ],
   "source": [
    "%whos"
   ]
  },
  {
   "cell_type": "code",
   "execution_count": null,
   "id": "cfd3aa83-2f51-44e9-9d06-c27c07eac384",
   "metadata": {},
   "outputs": [],
   "source": []
  }
 ],
 "metadata": {
  "kernelspec": {
   "display_name": "Python 3 (ipykernel)",
   "language": "python",
   "name": "python3"
  },
  "language_info": {
   "codemirror_mode": {
    "name": "ipython",
    "version": 3
   },
   "file_extension": ".py",
   "mimetype": "text/x-python",
   "name": "python",
   "nbconvert_exporter": "python",
   "pygments_lexer": "ipython3",
   "version": "3.8.18"
  }
 },
 "nbformat": 4,
 "nbformat_minor": 5
}
