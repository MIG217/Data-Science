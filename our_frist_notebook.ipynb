{
 "cells": [
  {
   "cell_type": "code",
   "execution_count": 4,
   "id": "18a7f5d2-9c3b-4c4a-9dcb-77859dfa5730",
   "metadata": {},
   "outputs": [
    {
     "data": {
      "text/plain": [
       "6"
      ]
     },
     "execution_count": 4,
     "metadata": {},
     "output_type": "execute_result"
    }
   ],
   "source": [
    "2+4"
   ]
  },
  {
   "cell_type": "code",
   "execution_count": 5,
   "id": "ebc532f9-841b-4e8b-a71f-3dd10e94d3be",
   "metadata": {},
   "outputs": [
    {
     "name": "stdout",
     "output_type": "stream",
     "text": [
      "Interactive namespace is empty.\n"
     ]
    }
   ],
   "source": [
    "%whos"
   ]
  },
  {
   "cell_type": "code",
   "execution_count": 6,
   "id": "a95f365f-b91c-4973-aafb-391c262455b7",
   "metadata": {},
   "outputs": [
    {
     "ename": "NameError",
     "evalue": "name 'z' is not defined",
     "output_type": "error",
     "traceback": [
      "\u001b[0;31m---------------------------------------------------------------------------\u001b[0m",
      "\u001b[0;31mNameError\u001b[0m                                 Traceback (most recent call last)",
      "Cell \u001b[0;32mIn[6], line 1\u001b[0m\n\u001b[0;32m----> 1\u001b[0m \u001b[43mz\u001b[49m\u001b[38;5;241m*\u001b[39mx\u001b[38;5;241m*\u001b[39my\n",
      "\u001b[0;31mNameError\u001b[0m: name 'z' is not defined"
     ]
    }
   ],
   "source": [
    "z*x*y"
   ]
  },
  {
   "cell_type": "code",
   "execution_count": 7,
   "id": "c3c508b8-f22c-4cad-bc56-5e98da3ad381",
   "metadata": {},
   "outputs": [
    {
     "data": {
      "text/plain": [
       "9"
      ]
     },
     "execution_count": 7,
     "metadata": {},
     "output_type": "execute_result"
    }
   ],
   "source": [
    "3*3"
   ]
  },
  {
   "cell_type": "code",
   "execution_count": 8,
   "id": "0225503e-72e0-4ae6-9607-e154cbfbfe6c",
   "metadata": {},
   "outputs": [
    {
     "data": {
      "text/plain": [
       "16"
      ]
     },
     "execution_count": 8,
     "metadata": {},
     "output_type": "execute_result"
    }
   ],
   "source": [
    "2 **4"
   ]
  },
  {
   "cell_type": "code",
   "execution_count": 9,
   "id": "78d3a788-e65b-4be8-8597-626ad149d506",
   "metadata": {},
   "outputs": [
    {
     "data": {
      "text/plain": [
       "16"
      ]
     },
     "execution_count": 9,
     "metadata": {},
     "output_type": "execute_result"
    }
   ],
   "source": [
    "2*2*2*2"
   ]
  },
  {
   "cell_type": "code",
   "execution_count": 10,
   "id": "6fc90f84-fd31-48c2-aac8-b6c2647ea94d",
   "metadata": {},
   "outputs": [
    {
     "name": "stdout",
     "output_type": "stream",
     "text": [
      "4\n"
     ]
    }
   ],
   "source": [
    "print(2+2)"
   ]
  },
  {
   "cell_type": "code",
   "execution_count": 11,
   "id": "0578f6b2-00c3-4092-b814-c78a5849b55b",
   "metadata": {},
   "outputs": [
    {
     "data": {
      "text/plain": [
       "16"
      ]
     },
     "execution_count": 11,
     "metadata": {},
     "output_type": "execute_result"
    }
   ],
   "source": [
    "3*3\n",
    "\n",
    "4+4\n",
    "\n",
    "2*2*2*2"
   ]
  },
  {
   "cell_type": "code",
   "execution_count": 12,
   "id": "ee9cb047-31b7-4572-8a14-9eaea0a49bd9",
   "metadata": {},
   "outputs": [
    {
     "name": "stdout",
     "output_type": "stream",
     "text": [
      "6\n",
      "8\n",
      "16\n"
     ]
    }
   ],
   "source": [
    "print(3+3)\n",
    "\n",
    "print(4+4)\n",
    "\n",
    "print (2*2*2*2)\n"
   ]
  },
  {
   "cell_type": "code",
   "execution_count": 13,
   "id": "370eab73-4d19-4bdd-88de-3665b2e2aa9e",
   "metadata": {},
   "outputs": [],
   "source": [
    "# hashtags are COMMENTS in CODE CELLS!!!\n",
    "\n",
    "## This is a comment\n",
    "\n",
    "### This is still a comment!!!\n",
    "\n",
    "### 2+2\n",
    "\n",
    "### print (3+3)\n",
    "\n",
    "### nothing is evaluated here!!!\n"
   ]
  },
  {
   "cell_type": "code",
   "execution_count": 14,
   "id": "62fce263-b16c-4181-9138-c1a03cb74da2",
   "metadata": {},
   "outputs": [
    {
     "name": "stdout",
     "output_type": "stream",
     "text": [
      "4\n"
     ]
    }
   ],
   "source": [
    "# Comments are absolutely CRITICAL in scripts!!\n",
    "\n",
    "# We need to use comments in order to describe what we're doing!!\n",
    "\n",
    "### Print the result of 2+2 to the screen using the print () function\n",
    "\n",
    "print(2+2)"
   ]
  },
  {
   "cell_type": "markdown",
   "id": "14dd96fe-819d-4de7-b816-60b2dec20539",
   "metadata": {},
   "source": [
    "This is NOT a code cell\n",
    "\n",
    "We cannot run commands, evaluate expression, or call function\n",
    "\n",
    "We are typing in a Markdowm text although \"looks\" like code... will be RENDERED in a nice format!\n",
    "\n",
    "2+2\n",
    "\n",
    "print (2+2)"
   ]
  },
  {
   "cell_type": "markdown",
   "id": "0c22a767-9c42-4686-b074-7a7123cad330",
   "metadata": {},
   "source": [
    "# This is not a comment\n",
    "## This is still not a comment\n",
    "### This is still not a comment\n",
    "#### more hashtags mean smaller font\n",
    "##### Hashtags in Markdown cells create SELECTION HEADERS!!!\n",
    "###### More hashtags represent more sub sections"
   ]
  },
  {
   "cell_type": "markdown",
   "id": "6e9987b8-aafc-4d5e-a4c4-2b4ee18c7691",
   "metadata": {},
   "source": [
    "# Our first notebook\n",
    "This is our first Jupyter notebook. We can type Markdown text to create nice looking discussions which describe WHAT we are programming, WHY we are programming, and describe the results!!!\n",
    "## A simple code cell\n",
    "Below is a simple code cell prints the result 2+2"
   ]
  },
  {
   "cell_type": "code",
   "execution_count": 15,
   "id": "d56ba927-0323-414e-861e-36c942f81ae5",
   "metadata": {},
   "outputs": [
    {
     "name": "stdout",
     "output_type": "stream",
     "text": [
      "4\n"
     ]
    }
   ],
   "source": [
    "print(2+2)"
   ]
  },
  {
   "cell_type": "markdown",
   "id": "9d0bf903-f401-499e-a6de-cfc56dbb8ec4",
   "metadata": {},
   "source": [
    "## Bulleted lists\n",
    "\n",
    "we can create bulleted lists using Markdown!\n",
    "\n",
    "* Fisrt item in the list\n",
    "* Second item in the list\n",
    "* 3rd\n",
    "* 4th\n",
    "* so on and so on\n",
    "\n",
    "back to regular working text.\n"
   ]
  },
  {
   "cell_type": "markdown",
   "id": "bab643cb-40c3-4bbd-a970-e91b783ceac3",
   "metadata": {},
   "source": [
    "## Define variables\n",
    "\n",
    "Let's define two variables, `x` and `y`, in the code cell below.\n",
    "\n",
    "`: back ticks"
   ]
  },
  {
   "cell_type": "code",
   "execution_count": 16,
   "id": "94190d57-0b79-4ce2-9d09-ce2785a2d2d8",
   "metadata": {},
   "outputs": [],
   "source": [
    "x=3\n",
    "\n",
    "y=7\n"
   ]
  },
  {
   "cell_type": "code",
   "execution_count": 17,
   "id": "5e9b9e55-769e-4053-b293-466320ade909",
   "metadata": {},
   "outputs": [
    {
     "name": "stdout",
     "output_type": "stream",
     "text": [
      "3\n"
     ]
    }
   ],
   "source": [
    "print(x)\n"
   ]
  },
  {
   "cell_type": "code",
   "execution_count": 18,
   "id": "522092ae-244e-44df-b090-45c2e4a6428b",
   "metadata": {},
   "outputs": [
    {
     "name": "stdout",
     "output_type": "stream",
     "text": [
      "7\n"
     ]
    }
   ],
   "source": [
    "print(y)"
   ]
  },
  {
   "cell_type": "code",
   "execution_count": 19,
   "id": "67e79223-e667-44e8-9cc8-04cf622b250d",
   "metadata": {},
   "outputs": [
    {
     "name": "stdout",
     "output_type": "stream",
     "text": [
      "10\n"
     ]
    }
   ],
   "source": [
    "print(x+y)\n"
   ]
  },
  {
   "cell_type": "markdown",
   "id": "a4cd6c14-5ff6-4420-bbd9-dc3f46a6a520",
   "metadata": {},
   "source": [
    "Jupyter notebook includes MAGIC COMMANDS that allow us to SEE and INSPECT aspects of the variables/objects in the environment!"
   ]
  },
  {
   "cell_type": "code",
   "execution_count": 20,
   "id": "190466f1-506e-4bca-adff-6e314f90dba2",
   "metadata": {},
   "outputs": [
    {
     "name": "stdout",
     "output_type": "stream",
     "text": [
      "Variable   Type    Data/Info\n",
      "----------------------------\n",
      "x          int     3\n",
      "y          int     7\n"
     ]
    }
   ],
   "source": [
    "%whos"
   ]
  },
  {
   "cell_type": "code",
   "execution_count": 21,
   "id": "90ff9ef0-1d51-4de5-a67f-7173c3b3fe20",
   "metadata": {},
   "outputs": [],
   "source": [
    "z=x/y"
   ]
  },
  {
   "cell_type": "code",
   "execution_count": 22,
   "id": "1b306078-c3ac-4441-9546-524cf78e752c",
   "metadata": {},
   "outputs": [
    {
     "name": "stdout",
     "output_type": "stream",
     "text": [
      "Variable   Type     Data/Info\n",
      "-----------------------------\n",
      "x          int      3\n",
      "y          int      7\n",
      "z          float    0.42857142857142855\n"
     ]
    }
   ],
   "source": [
    "%whos"
   ]
  },
  {
   "cell_type": "markdown",
   "id": "25f9b845-96cc-4685-beaa-73e24acf8689",
   "metadata": {},
   "source": [
    "## Data types\n",
    "\n",
    "There are many data types in programming languages like python. Data types dictate the kinds of operations we can do on the object!\n",
    "\n",
    "The `type` function is a function that returns the DATA TYPE of the input argument.\n",
    "\n"
   ]
  },
  {
   "cell_type": "code",
   "execution_count": 23,
   "id": "e67f6dcb-e657-42cd-9321-306a89cf902e",
   "metadata": {},
   "outputs": [
    {
     "data": {
      "text/plain": [
       "int"
      ]
     },
     "execution_count": 23,
     "metadata": {},
     "output_type": "execute_result"
    }
   ],
   "source": [
    "type(x)"
   ]
  },
  {
   "cell_type": "code",
   "execution_count": 24,
   "id": "c064b100-f569-48b3-883d-0e9ce3093c22",
   "metadata": {},
   "outputs": [
    {
     "name": "stdout",
     "output_type": "stream",
     "text": [
      "<class 'int'>\n"
     ]
    }
   ],
   "source": [
    "print(type(x))"
   ]
  },
  {
   "cell_type": "code",
   "execution_count": 25,
   "id": "808e2b6d-78bd-41fc-b7bc-87cb70dd0f91",
   "metadata": {},
   "outputs": [
    {
     "data": {
      "text/plain": [
       "int"
      ]
     },
     "execution_count": 25,
     "metadata": {},
     "output_type": "execute_result"
    }
   ],
   "source": [
    "type(y)"
   ]
  },
  {
   "cell_type": "code",
   "execution_count": 26,
   "id": "b80918f7-0da2-45bc-a659-bf0499b7a9b5",
   "metadata": {},
   "outputs": [
    {
     "data": {
      "text/plain": [
       "float"
      ]
     },
     "execution_count": 26,
     "metadata": {},
     "output_type": "execute_result"
    }
   ],
   "source": [
    "type(z)"
   ]
  },
  {
   "cell_type": "code",
   "execution_count": 27,
   "id": "e18fd956-f0cf-4485-b6b4-4b139710127d",
   "metadata": {},
   "outputs": [
    {
     "name": "stdout",
     "output_type": "stream",
     "text": [
      "<class 'float'>\n"
     ]
    }
   ],
   "source": [
    "print(type(z))"
   ]
  },
  {
   "cell_type": "code",
   "execution_count": 28,
   "id": "8ee3f572-a493-4974-85fa-6b8c7c37ceb0",
   "metadata": {},
   "outputs": [
    {
     "data": {
      "text/plain": [
       "0.42857142857142855"
      ]
     },
     "execution_count": 28,
     "metadata": {},
     "output_type": "execute_result"
    }
   ],
   "source": [
    "z\n",
    "### z is the decimal point"
   ]
  },
  {
   "cell_type": "code",
   "execution_count": 29,
   "id": "7146835c-f78b-44b2-8592-ecfde7795464",
   "metadata": {},
   "outputs": [
    {
     "data": {
      "text/plain": [
       "3.4285714285714284"
      ]
     },
     "execution_count": 29,
     "metadata": {},
     "output_type": "execute_result"
    }
   ],
   "source": [
    "x+z"
   ]
  },
  {
   "cell_type": "code",
   "execution_count": 30,
   "id": "d3a6d2bc-5a38-44a6-924d-b308c920c84c",
   "metadata": {},
   "outputs": [
    {
     "data": {
      "text/plain": [
       "float"
      ]
     },
     "execution_count": 30,
     "metadata": {},
     "output_type": "execute_result"
    }
   ],
   "source": [
    "type(x+z)\n",
    "\n",
    "### numbers integers and floats can work together"
   ]
  },
  {
   "cell_type": "code",
   "execution_count": 31,
   "id": "53a9332e-acc2-412b-8e56-996a6339ffd9",
   "metadata": {},
   "outputs": [
    {
     "data": {
      "text/plain": [
       "7.0"
      ]
     },
     "execution_count": 31,
     "metadata": {},
     "output_type": "execute_result"
    }
   ],
   "source": [
    "x/z"
   ]
  },
  {
   "cell_type": "code",
   "execution_count": 32,
   "id": "6f7c5bbd-29b2-4618-a3cc-2f29a8c9c4cd",
   "metadata": {},
   "outputs": [
    {
     "data": {
      "text/plain": [
       "1.2857142857142856"
      ]
     },
     "execution_count": 32,
     "metadata": {},
     "output_type": "execute_result"
    }
   ],
   "source": [
    "z*x"
   ]
  },
  {
   "cell_type": "code",
   "execution_count": 33,
   "id": "ecb0b228-bf7b-4130-ba1b-f7b353eebfca",
   "metadata": {},
   "outputs": [
    {
     "data": {
      "text/plain": [
       "float"
      ]
     },
     "execution_count": 33,
     "metadata": {},
     "output_type": "execute_result"
    }
   ],
   "source": [
    "type(z*x)"
   ]
  },
  {
   "cell_type": "markdown",
   "id": "7d959014-1f25-480e-9155-165d2477b123",
   "metadata": {},
   "source": [
    "## Strings\n",
    "\n",
    "A string data type is a FUNDANMENTLLY different class than INTEGERS and FLOATS.\n",
    "\n",
    "Strings are characters, so think of letters, words and phrases.\n"
   ]
  },
  {
   "cell_type": "code",
   "execution_count": 34,
   "id": "8aff5e54-cfc6-47e7-93c0-0aae496a90a2",
   "metadata": {},
   "outputs": [],
   "source": [
    "my_string = 'abcde'"
   ]
  },
  {
   "cell_type": "code",
   "execution_count": 35,
   "id": "85e646b3-83f1-4083-83ff-aad1bd3caa7e",
   "metadata": {},
   "outputs": [
    {
     "name": "stdout",
     "output_type": "stream",
     "text": [
      "Variable    Type     Data/Info\n",
      "------------------------------\n",
      "my_string   str      abcde\n",
      "x           int      3\n",
      "y           int      7\n",
      "z           float    0.42857142857142855\n"
     ]
    }
   ],
   "source": [
    "%whos"
   ]
  },
  {
   "cell_type": "code",
   "execution_count": 36,
   "id": "6915c9a5-7003-4060-8ebb-122428c6ffbf",
   "metadata": {},
   "outputs": [
    {
     "data": {
      "text/plain": [
       "str"
      ]
     },
     "execution_count": 36,
     "metadata": {},
     "output_type": "execute_result"
    }
   ],
   "source": [
    "type(my_string)"
   ]
  },
  {
   "cell_type": "code",
   "execution_count": 37,
   "id": "6d1b337e-81cc-4e5e-83a2-0f975236b0b6",
   "metadata": {},
   "outputs": [
    {
     "data": {
      "text/plain": [
       "str"
      ]
     },
     "execution_count": 37,
     "metadata": {},
     "output_type": "execute_result"
    }
   ],
   "source": [
    "type(\"abcde\")"
   ]
  },
  {
   "cell_type": "markdown",
   "id": "87eebeed-2133-4eab-af46-0037e80a94fa",
   "metadata": {},
   "source": [
    "The `=` operator ASSIGNS values to object but the `==` operator is a CONDITIONAL or LOGICAL test about if the VALUES of the objects are the same!"
   ]
  },
  {
   "cell_type": "code",
   "execution_count": 38,
   "id": "705519c1-d3ec-421f-8428-73a7bc4ea925",
   "metadata": {},
   "outputs": [
    {
     "data": {
      "text/plain": [
       "True"
      ]
     },
     "execution_count": 38,
     "metadata": {},
     "output_type": "execute_result"
    }
   ],
   "source": [
    "'abcde'==\"abcde\""
   ]
  },
  {
   "cell_type": "code",
   "execution_count": 39,
   "id": "1fd1d49f-457c-4dbe-bfb6-1eb3f4849cb8",
   "metadata": {},
   "outputs": [
    {
     "data": {
      "text/plain": [
       "True"
      ]
     },
     "execution_count": 39,
     "metadata": {},
     "output_type": "execute_result"
    }
   ],
   "source": [
    "my_string == \"abcde\""
   ]
  },
  {
   "cell_type": "code",
   "execution_count": 40,
   "id": "ff7964c7-f503-4060-8781-a30b76bcd0bd",
   "metadata": {},
   "outputs": [
    {
     "data": {
      "text/plain": [
       "bool"
      ]
     },
     "execution_count": 40,
     "metadata": {},
     "output_type": "execute_result"
    }
   ],
   "source": [
    "type (my_string == \"abcde\")"
   ]
  },
  {
   "cell_type": "markdown",
   "id": "6f698a65-670f-44a4-a6a9-dcbf213bee99",
   "metadata": {},
   "source": [
    "A BOOLEAN data type is a TRUE/FALSE value. Python dispaly Booleans ad `True` or `False`."
   ]
  },
  {
   "cell_type": "markdown",
   "id": "a30b10a8-0a3a-46e6-8547-ba6ddbd2b385",
   "metadata": {},
   "source": [
    "Strings are kind of \"special\" in that they can be SUBSET."
   ]
  },
  {
   "cell_type": "code",
   "execution_count": 41,
   "id": "75e5fca4-923e-4383-b51a-1e4f04d9723d",
   "metadata": {},
   "outputs": [
    {
     "data": {
      "text/plain": [
       "5"
      ]
     },
     "execution_count": 41,
     "metadata": {},
     "output_type": "execute_result"
    }
   ],
   "source": [
    "len(my_string)"
   ]
  },
  {
   "cell_type": "markdown",
   "id": "f4b2030c-c5f7-410f-b466-abb79908bf79",
   "metadata": {},
   "source": [
    "Integers do NOT have length in Python, but strings do have length in Python."
   ]
  },
  {
   "cell_type": "code",
   "execution_count": 42,
   "id": "1d2b672a-d118-4dc0-a25d-95cc53259e42",
   "metadata": {},
   "outputs": [
    {
     "ename": "TypeError",
     "evalue": "object of type 'int' has no len()",
     "output_type": "error",
     "traceback": [
      "\u001b[0;31m---------------------------------------------------------------------------\u001b[0m",
      "\u001b[0;31mTypeError\u001b[0m                                 Traceback (most recent call last)",
      "Cell \u001b[0;32mIn[42], line 1\u001b[0m\n\u001b[0;32m----> 1\u001b[0m \u001b[38;5;28;43mlen\u001b[39;49m\u001b[43m(\u001b[49m\u001b[43mx\u001b[49m\u001b[43m)\u001b[49m\n",
      "\u001b[0;31mTypeError\u001b[0m: object of type 'int' has no len()"
     ]
    }
   ],
   "source": [
    "len(x)"
   ]
  },
  {
   "cell_type": "markdown",
   "id": "c7569d57-a31c-4858-b736-a22b8aa1da12",
   "metadata": {},
   "source": [
    "We can SLICE or INDEX or SUBSET the character in a STRING!!!!!\n",
    "\n",
    "The `[]` allow us to INDEX or access elements from within the STRING!"
   ]
  },
  {
   "cell_type": "code",
   "execution_count": 43,
   "id": "11d01232-aa66-4f7f-80ec-9292fd0ed2d0",
   "metadata": {},
   "outputs": [
    {
     "data": {
      "text/plain": [
       "'b'"
      ]
     },
     "execution_count": 43,
     "metadata": {},
     "output_type": "execute_result"
    }
   ],
   "source": [
    "my_string[1]"
   ]
  },
  {
   "cell_type": "code",
   "execution_count": 44,
   "id": "29843821-1075-4fa4-9a18-e5e96e1454fa",
   "metadata": {},
   "outputs": [
    {
     "data": {
      "text/plain": [
       "'abcde'"
      ]
     },
     "execution_count": 44,
     "metadata": {},
     "output_type": "execute_result"
    }
   ],
   "source": [
    "my_string"
   ]
  },
  {
   "cell_type": "markdown",
   "id": "c414d58a-f65e-44ec-a2d4-9a0b35df9a79",
   "metadata": {},
   "source": [
    "VERY IMPORTANT: Python is a ZEROD BASED INDEX language!!!"
   ]
  },
  {
   "cell_type": "code",
   "execution_count": 45,
   "id": "6a915771-7aeb-408d-bc72-89c4ca89b4a3",
   "metadata": {},
   "outputs": [
    {
     "data": {
      "text/plain": [
       "'a'"
      ]
     },
     "execution_count": 45,
     "metadata": {},
     "output_type": "execute_result"
    }
   ],
   "source": [
    "my_string[0]"
   ]
  },
  {
   "cell_type": "markdown",
   "id": "88189492-d77a-4055-aea4-63a7fb2c27de",
   "metadata": {},
   "source": [
    "### Slicing\n",
    "\n",
    "We can extract out MORE than just a single element!\n",
    "\n",
    "We can extract or SLICE multiple elements at a time!\n",
    "\n",
    "We slice by including the `:` operator.\n",
    "\n",
    "The `:` operator has a START or BEGINNING index to the LEFT and an END or FINISH index to the RIGHT.\n",
    "\n",
    "VERY IMPORTANT: the beginning index is INCLUSIVE but the ending index is EXCLUSIVE!!!!!!"
   ]
  },
  {
   "cell_type": "code",
   "execution_count": 46,
   "id": "08ce8a44-7f74-41a5-adb4-50c0659c85fd",
   "metadata": {},
   "outputs": [
    {
     "data": {
      "text/plain": [
       "'abc'"
      ]
     },
     "execution_count": 46,
     "metadata": {},
     "output_type": "execute_result"
    }
   ],
   "source": [
    "my_string[0:3]"
   ]
  },
  {
   "cell_type": "code",
   "execution_count": 47,
   "id": "80c508a1-8ff5-4847-895d-51e7edd68886",
   "metadata": {},
   "outputs": [
    {
     "data": {
      "text/plain": [
       "3"
      ]
     },
     "execution_count": 47,
     "metadata": {},
     "output_type": "execute_result"
    }
   ],
   "source": [
    "len(my_string[0:3])"
   ]
  },
  {
   "cell_type": "code",
   "execution_count": 48,
   "id": "476acf69-080c-45fb-be06-6216dddc3413",
   "metadata": {},
   "outputs": [
    {
     "data": {
      "text/plain": [
       "'d'"
      ]
     },
     "execution_count": 48,
     "metadata": {},
     "output_type": "execute_result"
    }
   ],
   "source": [
    "my_string[3]"
   ]
  },
  {
   "cell_type": "code",
   "execution_count": 49,
   "id": "940d2e87-08cd-4f3e-8ea5-a22d82c21577",
   "metadata": {},
   "outputs": [
    {
     "data": {
      "text/plain": [
       "'bc'"
      ]
     },
     "execution_count": 49,
     "metadata": {},
     "output_type": "execute_result"
    }
   ],
   "source": [
    "my_string[1:3]"
   ]
  },
  {
   "cell_type": "markdown",
   "id": "0aa9dc43-f1fc-4db4-8aa1-5f0bda23ae85",
   "metadata": {},
   "source": [
    "A shortcut to start from the beginning to NOT include anything to the left `:`"
   ]
  },
  {
   "cell_type": "code",
   "execution_count": 50,
   "id": "9e1d2e00-b7f0-4bc4-95d9-07dd56a8d2c5",
   "metadata": {},
   "outputs": [
    {
     "data": {
      "text/plain": [
       "'abc'"
      ]
     },
     "execution_count": 50,
     "metadata": {},
     "output_type": "execute_result"
    }
   ],
   "source": [
    "my_string[:3]"
   ]
  },
  {
   "cell_type": "code",
   "execution_count": 51,
   "id": "56e0ed0e-e6e4-4984-bd09-a717dc9a5eda",
   "metadata": {},
   "outputs": [
    {
     "data": {
      "text/plain": [
       "'ab'"
      ]
     },
     "execution_count": 51,
     "metadata": {},
     "output_type": "execute_result"
    }
   ],
   "source": [
    "my_string[:2]"
   ]
  },
  {
   "cell_type": "code",
   "execution_count": 52,
   "id": "9a2f9127-2039-4f89-9454-10d103a5025a",
   "metadata": {},
   "outputs": [
    {
     "data": {
      "text/plain": [
       "'abc'"
      ]
     },
     "execution_count": 52,
     "metadata": {},
     "output_type": "execute_result"
    }
   ],
   "source": [
    "my_string[:3]"
   ]
  },
  {
   "cell_type": "code",
   "execution_count": 53,
   "id": "12b647d5-c97d-433a-8547-2112e0492611",
   "metadata": {},
   "outputs": [
    {
     "data": {
      "text/plain": [
       "'abcd'"
      ]
     },
     "execution_count": 53,
     "metadata": {},
     "output_type": "execute_result"
    }
   ],
   "source": [
    "my_string[:4]"
   ]
  },
  {
   "cell_type": "markdown",
   "id": "0174662a-d6a0-4a5d-86d9-e84ade8dcfb0",
   "metadata": {},
   "source": [
    "If we exclude the ENDING index or we do NOT include anything to the right of `:` we will return EVERYTHING from the BEGINNING to the END!"
   ]
  },
  {
   "cell_type": "code",
   "execution_count": 54,
   "id": "d733f90e-1b3c-4a8b-bf13-2ae548ed6fcf",
   "metadata": {},
   "outputs": [
    {
     "data": {
      "text/plain": [
       "'bcde'"
      ]
     },
     "execution_count": 54,
     "metadata": {},
     "output_type": "execute_result"
    }
   ],
   "source": [
    "my_string[1:]"
   ]
  },
  {
   "cell_type": "code",
   "execution_count": 55,
   "id": "7ecd7d11-4622-4e56-a85e-261f7064c812",
   "metadata": {},
   "outputs": [
    {
     "data": {
      "text/plain": [
       "'cde'"
      ]
     },
     "execution_count": 55,
     "metadata": {},
     "output_type": "execute_result"
    }
   ],
   "source": [
    "my_string[2:]"
   ]
  },
  {
   "cell_type": "code",
   "execution_count": 56,
   "id": "3c9a9e0e-7590-497e-a18b-0970f16e42c1",
   "metadata": {},
   "outputs": [
    {
     "data": {
      "text/plain": [
       "'abcde'"
      ]
     },
     "execution_count": 56,
     "metadata": {},
     "output_type": "execute_result"
    }
   ],
   "source": [
    "my_string[:]"
   ]
  },
  {
   "cell_type": "markdown",
   "id": "799a7115-d796-4465-874c-2ceae5f700ef",
   "metadata": {},
   "source": [
    "If the index is NEGATIVE that starts from the END!"
   ]
  },
  {
   "cell_type": "code",
   "execution_count": 57,
   "id": "5f4ced71-b18a-46d1-b1c9-83810e1a8341",
   "metadata": {},
   "outputs": [
    {
     "data": {
      "text/plain": [
       "'b'"
      ]
     },
     "execution_count": 57,
     "metadata": {},
     "output_type": "execute_result"
    }
   ],
   "source": [
    "my_string[1]"
   ]
  },
  {
   "cell_type": "code",
   "execution_count": 58,
   "id": "8175f651-6544-4c2b-bfb1-ddb2b6c0eb23",
   "metadata": {},
   "outputs": [
    {
     "data": {
      "text/plain": [
       "'e'"
      ]
     },
     "execution_count": 58,
     "metadata": {},
     "output_type": "execute_result"
    }
   ],
   "source": [
    "my_string[-1]"
   ]
  },
  {
   "cell_type": "markdown",
   "id": "eebfbcf7-b366-48de-98fd-85db7f358f72",
   "metadata": {},
   "source": [
    "We can identify the LAST element as `[-1]`"
   ]
  },
  {
   "cell_type": "code",
   "execution_count": 59,
   "id": "60ab2bea-2d92-4567-a7e0-0dcd3cb1dc90",
   "metadata": {},
   "outputs": [
    {
     "data": {
      "text/plain": [
       "'d'"
      ]
     },
     "execution_count": 59,
     "metadata": {},
     "output_type": "execute_result"
    }
   ],
   "source": [
    "my_string[-2]"
   ]
  },
  {
   "cell_type": "markdown",
   "id": "99b094f1-fa2c-460e-9bee-ae34bfbed5f7",
   "metadata": {},
   "source": [
    "## List\n",
    "\n",
    "This is a CONTAINER! It contains multiple elements.\n",
    "\n",
    "Lists are initialized or CREATED with `[]`(square brackets)."
   ]
  },
  {
   "cell_type": "code",
   "execution_count": 60,
   "id": "196e9f09-8242-40f2-9052-79b051e1a03d",
   "metadata": {},
   "outputs": [],
   "source": [
    "an_empty_list=[]\n"
   ]
  },
  {
   "cell_type": "code",
   "execution_count": 61,
   "id": "fb124942-1c81-4379-ab52-990a9ad3c8bd",
   "metadata": {},
   "outputs": [
    {
     "name": "stdout",
     "output_type": "stream",
     "text": [
      "Variable        Type     Data/Info\n",
      "----------------------------------\n",
      "an_empty_list   list     n=0\n",
      "my_string       str      abcde\n",
      "x               int      3\n",
      "y               int      7\n",
      "z               float    0.42857142857142855\n"
     ]
    }
   ],
   "source": [
    "%whos"
   ]
  },
  {
   "cell_type": "code",
   "execution_count": 62,
   "id": "97484b8b-4b3d-4c43-a197-e00bc99a5608",
   "metadata": {},
   "outputs": [
    {
     "data": {
      "text/plain": [
       "0"
      ]
     },
     "execution_count": 62,
     "metadata": {},
     "output_type": "execute_result"
    }
   ],
   "source": [
    "len(an_empty_list)"
   ]
  },
  {
   "cell_type": "code",
   "execution_count": 63,
   "id": "421384eb-85d5-4378-b99e-88935826c331",
   "metadata": {},
   "outputs": [
    {
     "data": {
      "text/plain": [
       "list"
      ]
     },
     "execution_count": 63,
     "metadata": {},
     "output_type": "execute_result"
    }
   ],
   "source": [
    "type(an_empty_list)"
   ]
  },
  {
   "cell_type": "markdown",
   "id": "ca6155c6-619c-44b4-b477-6ebcb4ae0789",
   "metadata": {},
   "source": [
    "Let's now make a new list that contains 4 strings."
   ]
  },
  {
   "cell_type": "code",
   "execution_count": 64,
   "id": "7bfefdb0-53dd-4367-9f85-7bf7a43ae2a3",
   "metadata": {},
   "outputs": [],
   "source": [
    "the_hobbits =['frodo', 'sam', 'merry', 'pippin']\n",
    "\n",
    "### `,` comma\n",
    "### `:` colon\n",
    "### `#` hashtag"
   ]
  },
  {
   "cell_type": "code",
   "execution_count": 65,
   "id": "be8945d9-41f7-4c20-88bb-04f2b5c3808e",
   "metadata": {},
   "outputs": [
    {
     "data": {
      "text/plain": [
       "4"
      ]
     },
     "execution_count": 65,
     "metadata": {},
     "output_type": "execute_result"
    }
   ],
   "source": [
    "len(the_hobbits)"
   ]
  },
  {
   "cell_type": "code",
   "execution_count": 66,
   "id": "b55d5ac1-9287-437d-a835-f4911f92d243",
   "metadata": {},
   "outputs": [
    {
     "data": {
      "text/plain": [
       "list"
      ]
     },
     "execution_count": 66,
     "metadata": {},
     "output_type": "execute_result"
    }
   ],
   "source": [
    "type(the_hobbits)"
   ]
  },
  {
   "cell_type": "code",
   "execution_count": 67,
   "id": "dfc3366a-a133-4138-9429-df67dea240d0",
   "metadata": {},
   "outputs": [
    {
     "name": "stdout",
     "output_type": "stream",
     "text": [
      "Variable        Type     Data/Info\n",
      "----------------------------------\n",
      "an_empty_list   list     n=0\n",
      "my_string       str      abcde\n",
      "the_hobbits     list     n=4\n",
      "x               int      3\n",
      "y               int      7\n",
      "z               float    0.42857142857142855\n"
     ]
    }
   ],
   "source": [
    "%whos"
   ]
  },
  {
   "cell_type": "markdown",
   "id": "1b3ccab2-bef3-403f-88df-1280b6b8f532",
   "metadata": {},
   "source": [
    "Lists like strings can be indexed, sliced, subset."
   ]
  },
  {
   "cell_type": "code",
   "execution_count": 68,
   "id": "1cb5cade-5405-4f77-ae2f-ee5f910a09c3",
   "metadata": {},
   "outputs": [
    {
     "data": {
      "text/plain": [
       "'frodo'"
      ]
     },
     "execution_count": 68,
     "metadata": {},
     "output_type": "execute_result"
    }
   ],
   "source": [
    "the_hobbits[0]"
   ]
  },
  {
   "cell_type": "code",
   "execution_count": 69,
   "id": "c500417e-1aac-4424-8a96-cfc021c6f5a4",
   "metadata": {},
   "outputs": [
    {
     "data": {
      "text/plain": [
       "['frodo', 'sam']"
      ]
     },
     "execution_count": 69,
     "metadata": {},
     "output_type": "execute_result"
    }
   ],
   "source": [
    "### sliced\n",
    "\n",
    "the_hobbits[:2]"
   ]
  },
  {
   "cell_type": "code",
   "execution_count": 70,
   "id": "0033fd59-74e8-4e19-a2d9-76608be39aaa",
   "metadata": {},
   "outputs": [
    {
     "data": {
      "text/plain": [
       "['frodo', 'sam', 'merry', 'pippin']"
      ]
     },
     "execution_count": 70,
     "metadata": {},
     "output_type": "execute_result"
    }
   ],
   "source": [
    "the_hobbits"
   ]
  },
  {
   "cell_type": "code",
   "execution_count": 72,
   "id": "388ebfdd-62e8-41ce-a5d6-e969433bd011",
   "metadata": {},
   "outputs": [
    {
     "data": {
      "text/plain": [
       "'sam'"
      ]
     },
     "execution_count": 72,
     "metadata": {},
     "output_type": "execute_result"
    }
   ],
   "source": [
    "the_hobbits[1]"
   ]
  },
  {
   "cell_type": "code",
   "execution_count": 73,
   "id": "fc0ab2e6-8ae5-472e-adeb-b7cdd6bd3fba",
   "metadata": {},
   "outputs": [
    {
     "data": {
      "text/plain": [
       "'pippin'"
      ]
     },
     "execution_count": 73,
     "metadata": {},
     "output_type": "execute_result"
    }
   ],
   "source": [
    "the_hobbits[-1]"
   ]
  },
  {
   "cell_type": "code",
   "execution_count": 74,
   "id": "4d1a544e-ddb5-4cad-ad93-d7e191b0d26b",
   "metadata": {},
   "outputs": [
    {
     "data": {
      "text/plain": [
       "str"
      ]
     },
     "execution_count": 74,
     "metadata": {},
     "output_type": "execute_result"
    }
   ],
   "source": [
    "type(the_hobbits[0])"
   ]
  },
  {
   "cell_type": "code",
   "execution_count": 75,
   "id": "d150a434-4ac9-41f4-a0d1-cd0b189d4fe5",
   "metadata": {},
   "outputs": [
    {
     "data": {
      "text/plain": [
       "str"
      ]
     },
     "execution_count": 75,
     "metadata": {},
     "output_type": "execute_result"
    }
   ],
   "source": [
    "type('frodo')"
   ]
  },
  {
   "cell_type": "code",
   "execution_count": 76,
   "id": "f06a495b-94ef-42e4-8bcb-4839277c4948",
   "metadata": {},
   "outputs": [
    {
     "data": {
      "text/plain": [
       "list"
      ]
     },
     "execution_count": 76,
     "metadata": {},
     "output_type": "execute_result"
    }
   ],
   "source": [
    "type(the_hobbits)"
   ]
  },
  {
   "cell_type": "code",
   "execution_count": 78,
   "id": "8111c3ff-7811-4d3b-ba16-74228193c483",
   "metadata": {},
   "outputs": [
    {
     "name": "stdout",
     "output_type": "stream",
     "text": [
      "frodo\n",
      "sam\n",
      "merry\n",
      "pippin\n"
     ]
    }
   ],
   "source": [
    "print(the_hobbits[0])\n",
    "\n",
    "print(the_hobbits[1])\n",
    "\n",
    "print(the_hobbits[2])\n",
    "\n",
    "print(the_hobbits[3])"
   ]
  },
  {
   "cell_type": "code",
   "execution_count": 79,
   "id": "5ab22414-d26e-4db0-8b51-0986ee54a256",
   "metadata": {},
   "outputs": [
    {
     "name": "stdout",
     "output_type": "stream",
     "text": [
      "<class 'str'>\n",
      "<class 'str'>\n",
      "<class 'str'>\n",
      "<class 'str'>\n"
     ]
    }
   ],
   "source": [
    "print(type(the_hobbits[0]))\n",
    "\n",
    "print(type(the_hobbits[1]))\n",
    "\n",
    "print(type(the_hobbits[2]))\n",
    "\n",
    "print(type(the_hobbits[3]))"
   ]
  },
  {
   "cell_type": "code",
   "execution_count": 81,
   "id": "59b171f1-e7e5-4490-8945-d6cab56dc526",
   "metadata": {},
   "outputs": [
    {
     "name": "stdout",
     "output_type": "stream",
     "text": [
      "Variable        Type     Data/Info\n",
      "----------------------------------\n",
      "a_hobbit        str      pippin\n",
      "an_empty_list   list     n=0\n",
      "my_string       str      abcde\n",
      "the_hobbits     list     n=4\n",
      "x               int      3\n",
      "y               int      7\n",
      "z               float    0.42857142857142855\n"
     ]
    }
   ],
   "source": [
    "%whos"
   ]
  },
  {
   "cell_type": "markdown",
   "id": "4db8caa3-0851-4b01-b0ee-ff624aef7753",
   "metadata": {},
   "source": [
    "## Iterate with for-loops\n",
    "\n",
    "A for-loop aloows us to APPLY an action or EXECUTE a procedure OVER and OVER and OVER again.\n",
    "\n",
    "We do NOT need to manually apply the action or copy/paste!!!!!\n",
    "\n",
    "A for-loop iterates over a SEQUENCE by changing the value of an ITERATING VARIABLE along that sequence.\n"
   ]
  },
  {
   "cell_type": "code",
   "execution_count": 80,
   "id": "6bc93481-2c56-4ebb-a0da-438a4277f535",
   "metadata": {},
   "outputs": [
    {
     "name": "stdout",
     "output_type": "stream",
     "text": [
      "frodo\n",
      "sam\n",
      "merry\n",
      "pippin\n"
     ]
    }
   ],
   "source": [
    "for a_hobbit in the_hobbits:\n",
    "    print(a_hobbit)\n",
    "\n",
    "# the cursor is not located on the far left of the cell\n",
    "# the cursor is intented"
   ]
  },
  {
   "cell_type": "code",
   "execution_count": 82,
   "id": "622268e1-c349-4372-a270-504aeafbf2a8",
   "metadata": {},
   "outputs": [
    {
     "name": "stdout",
     "output_type": "stream",
     "text": [
      "Variable        Type     Data/Info\n",
      "----------------------------------\n",
      "a_hobbit        str      pippin\n",
      "an_empty_list   list     n=0\n",
      "my_string       str      abcde\n",
      "the_hobbits     list     n=4\n",
      "x               int      3\n",
      "y               int      7\n",
      "z               float    0.42857142857142855\n"
     ]
    }
   ],
   "source": [
    "%whos"
   ]
  },
  {
   "cell_type": "code",
   "execution_count": 83,
   "id": "c499557a-5300-4807-96bb-11934b50d791",
   "metadata": {},
   "outputs": [
    {
     "data": {
      "text/plain": [
       "'pippin'"
      ]
     },
     "execution_count": 83,
     "metadata": {},
     "output_type": "execute_result"
    }
   ],
   "source": [
    "the_hobbits[-1]"
   ]
  },
  {
   "cell_type": "code",
   "execution_count": 85,
   "id": "cfa5dced-9bf1-4e2d-abe5-3d9e6aed06e5",
   "metadata": {},
   "outputs": [
    {
     "data": {
      "text/plain": [
       "'pippin'"
      ]
     },
     "execution_count": 85,
     "metadata": {},
     "output_type": "execute_result"
    }
   ],
   "source": [
    "a_hobbit"
   ]
  },
  {
   "cell_type": "markdown",
   "id": "7c0498e6-70cc-4bc1-b98f-35f524436dd5",
   "metadata": {},
   "source": [
    "A common way to create of define a for-loop is with a `range()` function."
   ]
  },
  {
   "cell_type": "code",
   "execution_count": 86,
   "id": "8b2c2a3c-82fb-4df2-9ef7-95e47eb03adc",
   "metadata": {},
   "outputs": [
    {
     "data": {
      "text/plain": [
       "range(0, 4)"
      ]
     },
     "execution_count": 86,
     "metadata": {},
     "output_type": "execute_result"
    }
   ],
   "source": [
    "range(4)"
   ]
  },
  {
   "cell_type": "code",
   "execution_count": 88,
   "id": "a000e2fd-477e-47ce-b597-fd1bccc4d1dc",
   "metadata": {},
   "outputs": [
    {
     "name": "stdout",
     "output_type": "stream",
     "text": [
      "0\n",
      "1\n",
      "2\n",
      "3\n"
     ]
    }
   ],
   "source": [
    "print (0)\n",
    "\n",
    "print(1)\n",
    "\n",
    "print(2)\n",
    "\n",
    "print(3)"
   ]
  },
  {
   "cell_type": "code",
   "execution_count": 89,
   "id": "553e81c1-ecdc-4d5f-a59f-0d52e6315a45",
   "metadata": {},
   "outputs": [
    {
     "name": "stdout",
     "output_type": "stream",
     "text": [
      "0\n",
      "1\n",
      "2\n",
      "3\n"
     ]
    }
   ],
   "source": [
    "for n in range(4):\n",
    "    print(n)"
   ]
  },
  {
   "cell_type": "code",
   "execution_count": 90,
   "id": "942f4af2-8f8b-483d-adb5-dad45dea18a8",
   "metadata": {},
   "outputs": [
    {
     "name": "stdout",
     "output_type": "stream",
     "text": [
      "Variable        Type     Data/Info\n",
      "----------------------------------\n",
      "a_hobbit        str      pippin\n",
      "an_empty_list   list     n=0\n",
      "my_string       str      abcde\n",
      "n               int      3\n",
      "the_hobbits     list     n=4\n",
      "x               int      3\n",
      "y               int      7\n",
      "z               float    0.42857142857142855\n"
     ]
    }
   ],
   "source": [
    "%whos"
   ]
  },
  {
   "cell_type": "markdown",
   "id": "b3e380b0-02dd-4274-8511-aa2511846774",
   "metadata": {},
   "source": [
    "A `range()` function is often used to GENERATE a SEQUENCE of integers to subset lists!\n"
   ]
  },
  {
   "cell_type": "code",
   "execution_count": 91,
   "id": "6636ee2f-8392-4ca8-9040-5becc3f8892e",
   "metadata": {},
   "outputs": [
    {
     "name": "stdout",
     "output_type": "stream",
     "text": [
      "frodo\n",
      "sam\n",
      "merry\n",
      "pippin\n"
     ]
    }
   ],
   "source": [
    "for n in range(4):\n",
    "    print (the_hobbits[n])"
   ]
  },
  {
   "cell_type": "code",
   "execution_count": 92,
   "id": "50dc67af-57ca-45f8-8519-5e89c5366c4f",
   "metadata": {},
   "outputs": [
    {
     "name": "stdout",
     "output_type": "stream",
     "text": [
      "frodo\n",
      "sam\n",
      "merry\n",
      "pippin\n"
     ]
    }
   ],
   "source": [
    "for a_hobbit in the_hobbits:\n",
    "    print(a_hobbit)"
   ]
  },
  {
   "cell_type": "markdown",
   "id": "4ec5ffb4-00c4-4004-87cf-409e8477694f",
   "metadata": {},
   "source": [
    "We do not need to HARD CODE the 4 in `range()`. We can use the `len()` function to give us the LENGTH of the list!"
   ]
  },
  {
   "cell_type": "code",
   "execution_count": 93,
   "id": "4b8b89b0-2b4c-414e-b90b-f989e9c336ef",
   "metadata": {},
   "outputs": [
    {
     "data": {
      "text/plain": [
       "4"
      ]
     },
     "execution_count": 93,
     "metadata": {},
     "output_type": "execute_result"
    }
   ],
   "source": [
    "len(the_hobbits)"
   ]
  },
  {
   "cell_type": "code",
   "execution_count": 95,
   "id": "15f0b377-a5fc-4ca6-a564-9ea98d741f8b",
   "metadata": {},
   "outputs": [
    {
     "name": "stdout",
     "output_type": "stream",
     "text": [
      "frodo\n",
      "sam\n",
      "merry\n",
      "pippin\n"
     ]
    }
   ],
   "source": [
    "for n in range(len(the_hobbits)):\n",
    "    print (the_hobbits[n])"
   ]
  },
  {
   "cell_type": "markdown",
   "id": "d9cbb3e0-7cac-4d51-ad23-760c3580e0db",
   "metadata": {},
   "source": [
    "## Lists are heterogenous\n",
    "\n",
    "Lists can CONTAIN MULTIPLT DATA TYPES!!!!!!\n"
   ]
  },
  {
   "cell_type": "code",
   "execution_count": 96,
   "id": "e80fa392-fb41-4095-b37c-52d3f432c937",
   "metadata": {},
   "outputs": [],
   "source": [
    "another_list=[1, 1.0, 'one', \"1\", '1.0', True]"
   ]
  },
  {
   "cell_type": "code",
   "execution_count": 97,
   "id": "2580fbb8-d53f-40d4-92e4-6346ce71195e",
   "metadata": {},
   "outputs": [
    {
     "data": {
      "text/plain": [
       "[1, 1.0, 'one', '1', '1.0', True]"
      ]
     },
     "execution_count": 97,
     "metadata": {},
     "output_type": "execute_result"
    }
   ],
   "source": [
    "another_list"
   ]
  },
  {
   "cell_type": "code",
   "execution_count": 98,
   "id": "7856e92f-9401-4c75-8553-6a80d7764124",
   "metadata": {},
   "outputs": [
    {
     "data": {
      "text/plain": [
       "list"
      ]
     },
     "execution_count": 98,
     "metadata": {},
     "output_type": "execute_result"
    }
   ],
   "source": [
    "type(another_list)"
   ]
  },
  {
   "cell_type": "code",
   "execution_count": 99,
   "id": "5630b5af-0caa-469f-803a-0a6ade8e0353",
   "metadata": {},
   "outputs": [
    {
     "name": "stdout",
     "output_type": "stream",
     "text": [
      "Variable        Type     Data/Info\n",
      "----------------------------------\n",
      "a_hobbit        str      pippin\n",
      "an_empty_list   list     n=0\n",
      "another_list    list     n=6\n",
      "my_string       str      abcde\n",
      "n               int      3\n",
      "the_hobbits     list     n=4\n",
      "x               int      3\n",
      "y               int      7\n",
      "z               float    0.42857142857142855\n"
     ]
    }
   ],
   "source": [
    "%whos"
   ]
  },
  {
   "cell_type": "code",
   "execution_count": 100,
   "id": "a4250805-7231-4e6b-a65a-5ed56dbc7ea0",
   "metadata": {},
   "outputs": [
    {
     "data": {
      "text/plain": [
       "6"
      ]
     },
     "execution_count": 100,
     "metadata": {},
     "output_type": "execute_result"
    }
   ],
   "source": [
    "len(another_list)"
   ]
  },
  {
   "cell_type": "code",
   "execution_count": 102,
   "id": "87fb8026-8a48-433f-9e60-03eda8995eb4",
   "metadata": {},
   "outputs": [
    {
     "name": "stdout",
     "output_type": "stream",
     "text": [
      "<class 'int'>\n",
      "<class 'float'>\n",
      "<class 'str'>\n",
      "<class 'str'>\n",
      "<class 'str'>\n",
      "<class 'bool'>\n"
     ]
    }
   ],
   "source": [
    "for an_element in another_list:\n",
    "    print(type(an_element))"
   ]
  },
  {
   "cell_type": "code",
   "execution_count": 103,
   "id": "9cc8ec08-262f-4af5-89df-912b6aac9f44",
   "metadata": {},
   "outputs": [
    {
     "data": {
      "text/plain": [
       "int"
      ]
     },
     "execution_count": 103,
     "metadata": {},
     "output_type": "execute_result"
    }
   ],
   "source": [
    "type(another_list[0])"
   ]
  },
  {
   "cell_type": "code",
   "execution_count": 104,
   "id": "8a065a58-c5ff-410d-ae80-3aa3da294a9e",
   "metadata": {},
   "outputs": [
    {
     "data": {
      "text/plain": [
       "float"
      ]
     },
     "execution_count": 104,
     "metadata": {},
     "output_type": "execute_result"
    }
   ],
   "source": [
    "type(another_list[1])"
   ]
  },
  {
   "cell_type": "code",
   "execution_count": 105,
   "id": "9bb23b19-c1ab-4b95-a913-324eac8e0d9e",
   "metadata": {},
   "outputs": [
    {
     "data": {
      "text/plain": [
       "bool"
      ]
     },
     "execution_count": 105,
     "metadata": {},
     "output_type": "execute_result"
    }
   ],
   "source": [
    "type(another_list[-1])"
   ]
  },
  {
   "cell_type": "code",
   "execution_count": null,
   "id": "5fc278be-40c8-43be-b825-441c81d3f921",
   "metadata": {},
   "outputs": [],
   "source": []
  }
 ],
 "metadata": {
  "kernelspec": {
   "display_name": "Python 3 (ipykernel)",
   "language": "python",
   "name": "python3"
  },
  "language_info": {
   "codemirror_mode": {
    "name": "ipython",
    "version": 3
   },
   "file_extension": ".py",
   "mimetype": "text/x-python",
   "name": "python",
   "nbconvert_exporter": "python",
   "pygments_lexer": "ipython3",
   "version": "3.8.18"
  }
 },
 "nbformat": 4,
 "nbformat_minor": 5
}
